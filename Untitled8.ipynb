{
 "cells": [
  {
   "cell_type": "code",
   "execution_count": 8,
   "metadata": {},
   "outputs": [
    {
     "data": {
      "text/html": [
       "<div>\n",
       "<style scoped>\n",
       "    .dataframe tbody tr th:only-of-type {\n",
       "        vertical-align: middle;\n",
       "    }\n",
       "\n",
       "    .dataframe tbody tr th {\n",
       "        vertical-align: top;\n",
       "    }\n",
       "\n",
       "    .dataframe thead th {\n",
       "        text-align: right;\n",
       "    }\n",
       "</style>\n",
       "<table border=\"1\" class=\"dataframe\">\n",
       "  <thead>\n",
       "    <tr style=\"text-align: right;\">\n",
       "      <th></th>\n",
       "      <th>store_id</th>\n",
       "      <th>customer_code</th>\n",
       "      <th>mapped_store_id</th>\n",
       "      <th>customer_cid</th>\n",
       "      <th>customer_name</th>\n",
       "      <th>tel</th>\n",
       "    </tr>\n",
       "  </thead>\n",
       "  <tbody>\n",
       "    <tr>\n",
       "      <th>0</th>\n",
       "      <td>3</td>\n",
       "      <td>39567</td>\n",
       "      <td>0</td>\n",
       "      <td>3N39567</td>\n",
       "      <td>Cathrine Price PhD</td>\n",
       "      <td>(411)547-3571x155</td>\n",
       "    </tr>\n",
       "    <tr>\n",
       "      <th>1</th>\n",
       "      <td>3</td>\n",
       "      <td>10677</td>\n",
       "      <td>0</td>\n",
       "      <td>3N10677</td>\n",
       "      <td>Miss Taniyah Wuckert DDS</td>\n",
       "      <td>1-566-594-0642</td>\n",
       "    </tr>\n",
       "    <tr>\n",
       "      <th>2</th>\n",
       "      <td>3</td>\n",
       "      <td>7315</td>\n",
       "      <td>0</td>\n",
       "      <td>3N7315</td>\n",
       "      <td>Dr. Loren Windler DDS</td>\n",
       "      <td>018-227-8846x5532</td>\n",
       "    </tr>\n",
       "    <tr>\n",
       "      <th>3</th>\n",
       "      <td>3</td>\n",
       "      <td>51541</td>\n",
       "      <td>0</td>\n",
       "      <td>3N51541</td>\n",
       "      <td>Christa McClure</td>\n",
       "      <td>(163)289-5991</td>\n",
       "    </tr>\n",
       "    <tr>\n",
       "      <th>4</th>\n",
       "      <td>3</td>\n",
       "      <td>4284</td>\n",
       "      <td>0</td>\n",
       "      <td>3N4284</td>\n",
       "      <td>Kalene Carroll-Zboncak</td>\n",
       "      <td>499-920-9854x079</td>\n",
       "    </tr>\n",
       "  </tbody>\n",
       "</table>\n",
       "</div>"
      ],
      "text/plain": [
       "   store_id  customer_code  mapped_store_id customer_cid  \\\n",
       "0         3          39567                0      3N39567   \n",
       "1         3          10677                0      3N10677   \n",
       "2         3           7315                0       3N7315   \n",
       "3         3          51541                0      3N51541   \n",
       "4         3           4284                0       3N4284   \n",
       "\n",
       "              customer_name                tel  \n",
       "0        Cathrine Price PhD  (411)547-3571x155  \n",
       "1  Miss Taniyah Wuckert DDS     1-566-594-0642  \n",
       "2     Dr. Loren Windler DDS  018-227-8846x5532  \n",
       "3           Christa McClure      (163)289-5991  \n",
       "4    Kalene Carroll-Zboncak   499-920-9854x079  "
      ]
     },
     "execution_count": 8,
     "metadata": {},
     "output_type": "execute_result"
    }
   ],
   "source": [
    "import pandas as pd\n",
    "df=pd.read_csv('http://bit.ly/cutomresreport')\n",
    "df.head()"
   ]
  },
  {
   "cell_type": "code",
   "execution_count": 17,
   "metadata": {},
   "outputs": [
    {
     "data": {
      "text/plain": [
       "RangeIndex(start=0, stop=16082, step=1)"
      ]
     },
     "execution_count": 17,
     "metadata": {},
     "output_type": "execute_result"
    }
   ],
   "source": [
    "def cust_id():\n",
    "    return df.customer_cid.index\n",
    "cust_id()"
   ]
  },
  {
   "cell_type": "code",
   "execution_count": 25,
   "metadata": {},
   "outputs": [
    {
     "data": {
      "text/html": [
       "<div>\n",
       "<style scoped>\n",
       "    .dataframe tbody tr th:only-of-type {\n",
       "        vertical-align: middle;\n",
       "    }\n",
       "\n",
       "    .dataframe tbody tr th {\n",
       "        vertical-align: top;\n",
       "    }\n",
       "\n",
       "    .dataframe thead th {\n",
       "        text-align: right;\n",
       "    }\n",
       "</style>\n",
       "<table border=\"1\" class=\"dataframe\">\n",
       "  <thead>\n",
       "    <tr style=\"text-align: right;\">\n",
       "      <th></th>\n",
       "      <th>store_id</th>\n",
       "      <th>customer_code</th>\n",
       "      <th>mapped_store_id</th>\n",
       "      <th>customer_cid</th>\n",
       "      <th>customer_name</th>\n",
       "      <th>tel</th>\n",
       "    </tr>\n",
       "  </thead>\n",
       "  <tbody>\n",
       "    <tr>\n",
       "      <th>1</th>\n",
       "      <td>3</td>\n",
       "      <td>10677</td>\n",
       "      <td>0</td>\n",
       "      <td>3N10677</td>\n",
       "      <td>Miss Taniyah Wuckert DDS</td>\n",
       "      <td>1-566-594-0642</td>\n",
       "    </tr>\n",
       "    <tr>\n",
       "      <th>2</th>\n",
       "      <td>3</td>\n",
       "      <td>7315</td>\n",
       "      <td>0</td>\n",
       "      <td>3N7315</td>\n",
       "      <td>Dr. Loren Windler DDS</td>\n",
       "      <td>018-227-8846x5532</td>\n",
       "    </tr>\n",
       "  </tbody>\n",
       "</table>\n",
       "</div>"
      ],
      "text/plain": [
       "   store_id  customer_code  mapped_store_id customer_cid  \\\n",
       "1         3          10677                0      3N10677   \n",
       "2         3           7315                0       3N7315   \n",
       "\n",
       "              customer_name                tel  \n",
       "1  Miss Taniyah Wuckert DDS     1-566-594-0642  \n",
       "2     Dr. Loren Windler DDS  018-227-8846x5532  "
      ]
     },
     "execution_count": 25,
     "metadata": {},
     "output_type": "execute_result"
    }
   ],
   "source": [
    "df.iloc[1:3,:]\n"
   ]
  },
  {
   "cell_type": "code",
   "execution_count": 28,
   "metadata": {},
   "outputs": [
    {
     "data": {
      "text/plain": [
       "store_id              3\n",
       "customer_code      7315\n",
       "mapped_store_id       0\n",
       "Name: 2, dtype: object"
      ]
     },
     "execution_count": 28,
     "metadata": {},
     "output_type": "execute_result"
    }
   ],
   "source": [
    "df.iloc[2,:3]"
   ]
  },
  {
   "cell_type": "code",
   "execution_count": 44,
   "metadata": {},
   "outputs": [
    {
     "data": {
      "text/html": [
       "<div>\n",
       "<style scoped>\n",
       "    .dataframe tbody tr th:only-of-type {\n",
       "        vertical-align: middle;\n",
       "    }\n",
       "\n",
       "    .dataframe tbody tr th {\n",
       "        vertical-align: top;\n",
       "    }\n",
       "\n",
       "    .dataframe thead th {\n",
       "        text-align: right;\n",
       "    }\n",
       "</style>\n",
       "<table border=\"1\" class=\"dataframe\">\n",
       "  <thead>\n",
       "    <tr style=\"text-align: right;\">\n",
       "      <th></th>\n",
       "      <th>article_id</th>\n",
       "      <th>store_id</th>\n",
       "      <th>brand</th>\n",
       "      <th>brand_name</th>\n",
       "      <th>category</th>\n",
       "      <th>category_name</th>\n",
       "      <th>subcategory</th>\n",
       "      <th>subcategory_name</th>\n",
       "    </tr>\n",
       "  </thead>\n",
       "  <tbody>\n",
       "    <tr>\n",
       "      <th>0</th>\n",
       "      <td>2</td>\n",
       "      <td>2</td>\n",
       "      <td>3598</td>\n",
       "      <td>top ramen</td>\n",
       "      <td>3543</td>\n",
       "      <td>noodles</td>\n",
       "      <td>3599</td>\n",
       "      <td>instant noodles</td>\n",
       "    </tr>\n",
       "    <tr>\n",
       "      <th>1</th>\n",
       "      <td>2</td>\n",
       "      <td>3</td>\n",
       "      <td>3598</td>\n",
       "      <td>top ramen</td>\n",
       "      <td>3543</td>\n",
       "      <td>noodles</td>\n",
       "      <td>3599</td>\n",
       "      <td>instant noodles</td>\n",
       "    </tr>\n",
       "    <tr>\n",
       "      <th>2</th>\n",
       "      <td>2</td>\n",
       "      <td>4</td>\n",
       "      <td>3598</td>\n",
       "      <td>top ramen</td>\n",
       "      <td>3543</td>\n",
       "      <td>noodles</td>\n",
       "      <td>3599</td>\n",
       "      <td>instant noodles</td>\n",
       "    </tr>\n",
       "    <tr>\n",
       "      <th>3</th>\n",
       "      <td>2</td>\n",
       "      <td>5</td>\n",
       "      <td>3598</td>\n",
       "      <td>top ramen</td>\n",
       "      <td>3543</td>\n",
       "      <td>noodles</td>\n",
       "      <td>3599</td>\n",
       "      <td>instant noodles</td>\n",
       "    </tr>\n",
       "    <tr>\n",
       "      <th>4</th>\n",
       "      <td>3</td>\n",
       "      <td>2</td>\n",
       "      <td>3598</td>\n",
       "      <td>top ramen</td>\n",
       "      <td>3543</td>\n",
       "      <td>noodles</td>\n",
       "      <td>3599</td>\n",
       "      <td>instant noodles</td>\n",
       "    </tr>\n",
       "  </tbody>\n",
       "</table>\n",
       "</div>"
      ],
      "text/plain": [
       "   article_id  store_id  brand brand_name  category category_name  \\\n",
       "0           2         2   3598  top ramen      3543       noodles   \n",
       "1           2         3   3598  top ramen      3543       noodles   \n",
       "2           2         4   3598  top ramen      3543       noodles   \n",
       "3           2         5   3598  top ramen      3543       noodles   \n",
       "4           3         2   3598  top ramen      3543       noodles   \n",
       "\n",
       "   subcategory subcategory_name  \n",
       "0         3599  instant noodles  \n",
       "1         3599  instant noodles  \n",
       "2         3599  instant noodles  \n",
       "3         3599  instant noodles  \n",
       "4         3599  instant noodles  "
      ]
     },
     "execution_count": 44,
     "metadata": {},
     "output_type": "execute_result"
    }
   ],
   "source": [
    "import pandas as pd\n",
    "df1=pd.read_csv('http://bit.ly/2JKFn5Z')\n",
    "df1.head()"
   ]
  },
  {
   "cell_type": "code",
   "execution_count": 68,
   "metadata": {},
   "outputs": [
    {
     "data": {
      "text/plain": [
       "article_id          0\n",
       "store_id            0\n",
       "brand               0\n",
       "brand_name          0\n",
       "category_name       0\n",
       "subcategory         0\n",
       "subcategory_name    0\n",
       "dtype: int64"
      ]
     },
     "execution_count": 68,
     "metadata": {},
     "output_type": "execute_result"
    }
   ],
   "source": [
    "df1.isnull().sum()"
   ]
  },
  {
   "cell_type": "code",
   "execution_count": 70,
   "metadata": {},
   "outputs": [
    {
     "data": {
      "text/html": [
       "<div>\n",
       "<style scoped>\n",
       "    .dataframe tbody tr th:only-of-type {\n",
       "        vertical-align: middle;\n",
       "    }\n",
       "\n",
       "    .dataframe tbody tr th {\n",
       "        vertical-align: top;\n",
       "    }\n",
       "\n",
       "    .dataframe thead th {\n",
       "        text-align: right;\n",
       "    }\n",
       "</style>\n",
       "<table border=\"1\" class=\"dataframe\">\n",
       "  <thead>\n",
       "    <tr style=\"text-align: right;\">\n",
       "      <th></th>\n",
       "      <th>article_id</th>\n",
       "      <th>store_id</th>\n",
       "      <th>brand_name</th>\n",
       "      <th>category_name</th>\n",
       "      <th>subcategory</th>\n",
       "      <th>subcategory_name</th>\n",
       "    </tr>\n",
       "  </thead>\n",
       "  <tbody>\n",
       "    <tr>\n",
       "      <th>0</th>\n",
       "      <td>2</td>\n",
       "      <td>2</td>\n",
       "      <td>top ramen</td>\n",
       "      <td>noodles</td>\n",
       "      <td>3599</td>\n",
       "      <td>instant noodles</td>\n",
       "    </tr>\n",
       "    <tr>\n",
       "      <th>1</th>\n",
       "      <td>2</td>\n",
       "      <td>3</td>\n",
       "      <td>top ramen</td>\n",
       "      <td>noodles</td>\n",
       "      <td>3599</td>\n",
       "      <td>instant noodles</td>\n",
       "    </tr>\n",
       "    <tr>\n",
       "      <th>2</th>\n",
       "      <td>2</td>\n",
       "      <td>4</td>\n",
       "      <td>top ramen</td>\n",
       "      <td>noodles</td>\n",
       "      <td>3599</td>\n",
       "      <td>instant noodles</td>\n",
       "    </tr>\n",
       "    <tr>\n",
       "      <th>3</th>\n",
       "      <td>2</td>\n",
       "      <td>5</td>\n",
       "      <td>top ramen</td>\n",
       "      <td>noodles</td>\n",
       "      <td>3599</td>\n",
       "      <td>instant noodles</td>\n",
       "    </tr>\n",
       "    <tr>\n",
       "      <th>4</th>\n",
       "      <td>3</td>\n",
       "      <td>2</td>\n",
       "      <td>top ramen</td>\n",
       "      <td>noodles</td>\n",
       "      <td>3599</td>\n",
       "      <td>instant noodles</td>\n",
       "    </tr>\n",
       "  </tbody>\n",
       "</table>\n",
       "</div>"
      ],
      "text/plain": [
       "   article_id  store_id brand_name category_name  subcategory subcategory_name\n",
       "0           2         2  top ramen       noodles         3599  instant noodles\n",
       "1           2         3  top ramen       noodles         3599  instant noodles\n",
       "2           2         4  top ramen       noodles         3599  instant noodles\n",
       "3           2         5  top ramen       noodles         3599  instant noodles\n",
       "4           3         2  top ramen       noodles         3599  instant noodles"
      ]
     },
     "execution_count": 70,
     "metadata": {},
     "output_type": "execute_result"
    }
   ],
   "source": [
    "df1.drop('brand', axis=1, inplace=True)\n",
    "df1.head()\n"
   ]
  },
  {
   "cell_type": "code",
   "execution_count": 74,
   "metadata": {},
   "outputs": [
    {
     "data": {
      "text/html": [
       "<div>\n",
       "<style scoped>\n",
       "    .dataframe tbody tr th:only-of-type {\n",
       "        vertical-align: middle;\n",
       "    }\n",
       "\n",
       "    .dataframe tbody tr th {\n",
       "        vertical-align: top;\n",
       "    }\n",
       "\n",
       "    .dataframe thead th {\n",
       "        text-align: right;\n",
       "    }\n",
       "</style>\n",
       "<table border=\"1\" class=\"dataframe\">\n",
       "  <thead>\n",
       "    <tr style=\"text-align: right;\">\n",
       "      <th></th>\n",
       "      <th>article_id</th>\n",
       "      <th>store_id</th>\n",
       "      <th>brand_name</th>\n",
       "      <th>subcategory</th>\n",
       "      <th>subcategory_name</th>\n",
       "    </tr>\n",
       "  </thead>\n",
       "  <tbody>\n",
       "    <tr>\n",
       "      <th>40523</th>\n",
       "      <td>26698</td>\n",
       "      <td>5</td>\n",
       "      <td>parle</td>\n",
       "      <td>4174</td>\n",
       "      <td>muffins cookies &amp; rusk</td>\n",
       "    </tr>\n",
       "    <tr>\n",
       "      <th>40524</th>\n",
       "      <td>26701</td>\n",
       "      <td>2</td>\n",
       "      <td>nestle</td>\n",
       "      <td>3838</td>\n",
       "      <td>chocolate</td>\n",
       "    </tr>\n",
       "    <tr>\n",
       "      <th>40525</th>\n",
       "      <td>26701</td>\n",
       "      <td>3</td>\n",
       "      <td>nestle</td>\n",
       "      <td>3838</td>\n",
       "      <td>chocolate</td>\n",
       "    </tr>\n",
       "    <tr>\n",
       "      <th>40526</th>\n",
       "      <td>26701</td>\n",
       "      <td>4</td>\n",
       "      <td>nestle</td>\n",
       "      <td>3838</td>\n",
       "      <td>chocolate</td>\n",
       "    </tr>\n",
       "    <tr>\n",
       "      <th>40527</th>\n",
       "      <td>26701</td>\n",
       "      <td>5</td>\n",
       "      <td>nestle</td>\n",
       "      <td>3838</td>\n",
       "      <td>chocolate</td>\n",
       "    </tr>\n",
       "  </tbody>\n",
       "</table>\n",
       "</div>"
      ],
      "text/plain": [
       "       article_id  store_id brand_name  subcategory        subcategory_name\n",
       "40523       26698         5      parle         4174  muffins cookies & rusk\n",
       "40524       26701         2     nestle         3838               chocolate\n",
       "40525       26701         3     nestle         3838               chocolate\n",
       "40526       26701         4     nestle         3838               chocolate\n",
       "40527       26701         5     nestle         3838               chocolate"
      ]
     },
     "execution_count": 74,
     "metadata": {},
     "output_type": "execute_result"
    }
   ],
   "source": [
    "df1.drop('category_name', axis=1, inplace=True)\n",
    "df1.tail()"
   ]
  },
  {
   "cell_type": "code",
   "execution_count": 75,
   "metadata": {},
   "outputs": [
    {
     "data": {
      "text/plain": [
       "Index(['article_id', 'store_id', 'brand_name', 'subcategory',\n",
       "       'subcategory_name'],\n",
       "      dtype='object')"
      ]
     },
     "execution_count": 75,
     "metadata": {},
     "output_type": "execute_result"
    }
   ],
   "source": [
    "df1.columns"
   ]
  },
  {
   "cell_type": "code",
   "execution_count": 76,
   "metadata": {},
   "outputs": [
    {
     "data": {
      "text/plain": [
       "RangeIndex(start=0, stop=40528, step=1)"
      ]
     },
     "execution_count": 76,
     "metadata": {},
     "output_type": "execute_result"
    }
   ],
   "source": [
    "df1.index"
   ]
  },
  {
   "cell_type": "code",
   "execution_count": null,
   "metadata": {},
   "outputs": [],
   "source": []
  }
 ],
 "metadata": {
  "kernelspec": {
   "display_name": "Python 3",
   "language": "python",
   "name": "python3"
  },
  "language_info": {
   "codemirror_mode": {
    "name": "ipython",
    "version": 3
   },
   "file_extension": ".py",
   "mimetype": "text/x-python",
   "name": "python",
   "nbconvert_exporter": "python",
   "pygments_lexer": "ipython3",
   "version": "3.6.5"
  }
 },
 "nbformat": 4,
 "nbformat_minor": 2
}

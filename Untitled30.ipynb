{
 "cells": [
  {
   "cell_type": "code",
   "execution_count": 2,
   "metadata": {},
   "outputs": [],
   "source": [
    "import keras \n",
    "from keras.models import Sequential \n",
    "from keras.layers import Dense, Dropout, Activation\n",
    "import numpy as np"
   ]
  },
  {
   "cell_type": "code",
   "execution_count": 9,
   "metadata": {},
   "outputs": [],
   "source": [
    "x_train=np.random.random((1000, 20))\n",
    "y_train=np.random.randint(2, size=(1000,1))\n",
    "x_test=np.random.random((100,20))\n",
    "y_test=np.random.randint(2, size=(100,1))"
   ]
  },
  {
   "cell_type": "code",
   "execution_count": 10,
   "metadata": {},
   "outputs": [],
   "source": [
    "model=Sequential()"
   ]
  },
  {
   "cell_type": "code",
   "execution_count": 12,
   "metadata": {},
   "outputs": [],
   "source": [
    "model.add(Dense(64, input_dim=20, activation='relu'))\n",
    "model.add(Dropout(0.5))\n",
    "model.add(Dense(64, activation='relu'))\n",
    "model.add(Dropout(0.5))\n",
    "model.add(Dense(1, activation='sigmoid'))"
   ]
  },
  {
   "cell_type": "code",
   "execution_count": 13,
   "metadata": {},
   "outputs": [
    {
     "name": "stdout",
     "output_type": "stream",
     "text": [
      "Epoch 1/20\n",
      "1000/1000 [==============================] - 1s 520us/step - loss: 0.7208 - acc: 0.4850\n",
      "Epoch 2/20\n",
      "1000/1000 [==============================] - 0s 28us/step - loss: 0.7074 - acc: 0.4950\n",
      "Epoch 3/20\n",
      "1000/1000 [==============================] - 0s 32us/step - loss: 0.7086 - acc: 0.5070\n",
      "Epoch 4/20\n",
      "1000/1000 [==============================] - 0s 32us/step - loss: 0.7021 - acc: 0.5100\n",
      "Epoch 5/20\n",
      "1000/1000 [==============================] - 0s 44us/step - loss: 0.7019 - acc: 0.5090\n",
      "Epoch 6/20\n",
      "1000/1000 [==============================] - 0s 36us/step - loss: 0.7013 - acc: 0.4990\n",
      "Epoch 7/20\n",
      "1000/1000 [==============================] - 0s 44us/step - loss: 0.6963 - acc: 0.5170\n",
      "Epoch 8/20\n",
      "1000/1000 [==============================] - 0s 32us/step - loss: 0.6981 - acc: 0.5080\n",
      "Epoch 9/20\n",
      "1000/1000 [==============================] - 0s 32us/step - loss: 0.6965 - acc: 0.5270\n",
      "Epoch 10/20\n",
      "1000/1000 [==============================] - 0s 36us/step - loss: 0.6992 - acc: 0.5120\n",
      "Epoch 11/20\n",
      "1000/1000 [==============================] - 0s 36us/step - loss: 0.6980 - acc: 0.5070\n",
      "Epoch 12/20\n",
      "1000/1000 [==============================] - 0s 32us/step - loss: 0.6974 - acc: 0.5020\n",
      "Epoch 13/20\n",
      "1000/1000 [==============================] - 0s 36us/step - loss: 0.6956 - acc: 0.5130\n",
      "Epoch 14/20\n",
      "1000/1000 [==============================] - 0s 36us/step - loss: 0.6879 - acc: 0.5460\n",
      "Epoch 15/20\n",
      "1000/1000 [==============================] - 0s 32us/step - loss: 0.6903 - acc: 0.5390\n",
      "Epoch 16/20\n",
      "1000/1000 [==============================] - 0s 40us/step - loss: 0.6953 - acc: 0.5210\n",
      "Epoch 17/20\n",
      "1000/1000 [==============================] - 0s 36us/step - loss: 0.6948 - acc: 0.5230\n",
      "Epoch 18/20\n",
      "1000/1000 [==============================] - 0s 32us/step - loss: 0.6923 - acc: 0.5200\n",
      "Epoch 19/20\n",
      "1000/1000 [==============================] - 0s 32us/step - loss: 0.6887 - acc: 0.5470\n",
      "Epoch 20/20\n",
      "1000/1000 [==============================] - 0s 28us/step - loss: 0.6874 - acc: 0.5450\n"
     ]
    },
    {
     "data": {
      "text/plain": [
       "<keras.callbacks.History at 0x1fa794bea58>"
      ]
     },
     "execution_count": 13,
     "metadata": {},
     "output_type": "execute_result"
    }
   ],
   "source": [
    "model.compile(loss='binary_crossentropy', optimizer='rmsprop', metrics=['accuracy'])\n",
    "model.fit(x_train, y_train, epochs=20, batch_size=128)"
   ]
  },
  {
   "cell_type": "code",
   "execution_count": 15,
   "metadata": {},
   "outputs": [
    {
     "name": "stdout",
     "output_type": "stream",
     "text": [
      "\r",
      "100/100 [==============================] - 0s 40us/step\n"
     ]
    }
   ],
   "source": [
    "score=model.evaluate(x_test, y_test, batch_size=128)"
   ]
  },
  {
   "cell_type": "code",
   "execution_count": null,
   "metadata": {},
   "outputs": [],
   "source": []
  }
 ],
 "metadata": {
  "kernelspec": {
   "display_name": "Python 3",
   "language": "python",
   "name": "python3"
  },
  "language_info": {
   "codemirror_mode": {
    "name": "ipython",
    "version": 3
   },
   "file_extension": ".py",
   "mimetype": "text/x-python",
   "name": "python",
   "nbconvert_exporter": "python",
   "pygments_lexer": "ipython3",
   "version": "3.6.5"
  }
 },
 "nbformat": 4,
 "nbformat_minor": 2
}

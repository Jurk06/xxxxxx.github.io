{
 "cells": [
  {
   "cell_type": "code",
   "execution_count": 1,
   "metadata": {},
   "outputs": [],
   "source": [
    "import pandas as pd\n",
    "import matplotlib.pyplot as plt\n",
    "import seaborn as sns"
   ]
  },
  {
   "cell_type": "code",
   "execution_count": 2,
   "metadata": {},
   "outputs": [
    {
     "data": {
      "text/html": [
       "<div>\n",
       "<style scoped>\n",
       "    .dataframe tbody tr th:only-of-type {\n",
       "        vertical-align: middle;\n",
       "    }\n",
       "\n",
       "    .dataframe tbody tr th {\n",
       "        vertical-align: top;\n",
       "    }\n",
       "\n",
       "    .dataframe thead th {\n",
       "        text-align: right;\n",
       "    }\n",
       "</style>\n",
       "<table border=\"1\" class=\"dataframe\">\n",
       "  <thead>\n",
       "    <tr style=\"text-align: right;\">\n",
       "      <th></th>\n",
       "      <th>PatientID</th>\n",
       "      <th>Resp</th>\n",
       "      <th>PR Seq</th>\n",
       "      <th>RT Seq</th>\n",
       "      <th>VL-t0</th>\n",
       "      <th>CD4-t0</th>\n",
       "    </tr>\n",
       "  </thead>\n",
       "  <tbody>\n",
       "    <tr>\n",
       "      <th>772</th>\n",
       "      <td>773</td>\n",
       "      <td>0</td>\n",
       "      <td>CCTCAGATCACTCTTTGGCAGCGACCCCTCGTCACAATAAAGATAG...</td>\n",
       "      <td>CCTATTAGTCCTATTGAAACTGTACCAGTAAAATTAAAGCCAGGAA...</td>\n",
       "      <td>3.8</td>\n",
       "      <td>267</td>\n",
       "    </tr>\n",
       "    <tr>\n",
       "      <th>124</th>\n",
       "      <td>125</td>\n",
       "      <td>0</td>\n",
       "      <td>CCTCAAATCACTCTTTGGCARCGACCCCTCGTCACAATAAAGATAG...</td>\n",
       "      <td>CCCATTAGTCCTATTGAAACTGTACCAGTAAAATTAAAGCCAGGAA...</td>\n",
       "      <td>4.2</td>\n",
       "      <td>87</td>\n",
       "    </tr>\n",
       "    <tr>\n",
       "      <th>393</th>\n",
       "      <td>394</td>\n",
       "      <td>0</td>\n",
       "      <td>CCTCAGATCACTCTTTGGCAACGACCCCTCGTCACAATAAAGATAG...</td>\n",
       "      <td>CCCATTAGTCCTATTGAAACTGTACCAGTAAAATTAAAGCCAGGAA...</td>\n",
       "      <td>4.3</td>\n",
       "      <td>583</td>\n",
       "    </tr>\n",
       "    <tr>\n",
       "      <th>337</th>\n",
       "      <td>338</td>\n",
       "      <td>0</td>\n",
       "      <td>CCTCAGATCACTCTTTGGCAACGACCCCTCGTCACAATAAAGATAG...</td>\n",
       "      <td>CCYATTAGTCCTATTGAAACTGTACCAGTAAAATTAAAACCAGGAA...</td>\n",
       "      <td>4.7</td>\n",
       "      <td>235</td>\n",
       "    </tr>\n",
       "    <tr>\n",
       "      <th>293</th>\n",
       "      <td>294</td>\n",
       "      <td>0</td>\n",
       "      <td>CCTCAGATCACTCTTTGGCAACGACCCCTCGTCACAATAAAGATAG...</td>\n",
       "      <td>CCCATTAGTCCTATTGAAACTGTACCAGTAAAATTAAAGCCAGGGA...</td>\n",
       "      <td>3.2</td>\n",
       "      <td>706</td>\n",
       "    </tr>\n",
       "  </tbody>\n",
       "</table>\n",
       "</div>"
      ],
      "text/plain": [
       "     PatientID  Resp                                             PR Seq  \\\n",
       "772        773     0  CCTCAGATCACTCTTTGGCAGCGACCCCTCGTCACAATAAAGATAG...   \n",
       "124        125     0  CCTCAAATCACTCTTTGGCARCGACCCCTCGTCACAATAAAGATAG...   \n",
       "393        394     0  CCTCAGATCACTCTTTGGCAACGACCCCTCGTCACAATAAAGATAG...   \n",
       "337        338     0  CCTCAGATCACTCTTTGGCAACGACCCCTCGTCACAATAAAGATAG...   \n",
       "293        294     0  CCTCAGATCACTCTTTGGCAACGACCCCTCGTCACAATAAAGATAG...   \n",
       "\n",
       "                                                RT Seq  VL-t0  CD4-t0  \n",
       "772  CCTATTAGTCCTATTGAAACTGTACCAGTAAAATTAAAGCCAGGAA...    3.8     267  \n",
       "124  CCCATTAGTCCTATTGAAACTGTACCAGTAAAATTAAAGCCAGGAA...    4.2      87  \n",
       "393  CCCATTAGTCCTATTGAAACTGTACCAGTAAAATTAAAGCCAGGAA...    4.3     583  \n",
       "337  CCYATTAGTCCTATTGAAACTGTACCAGTAAAATTAAAACCAGGAA...    4.7     235  \n",
       "293  CCCATTAGTCCTATTGAAACTGTACCAGTAAAATTAAAGCCAGGGA...    3.2     706  "
      ]
     },
     "execution_count": 2,
     "metadata": {},
     "output_type": "execute_result"
    }
   ],
   "source": [
    "train=pd.read_csv('D:\\\\python\\\\Titanic_ML\\\\HIV_ml\\\\training_data.csv')\n",
    "train.sample(5)"
   ]
  },
  {
   "cell_type": "code",
   "execution_count": 3,
   "metadata": {},
   "outputs": [],
   "source": [
    "test=pd.read_csv('D:\\\\python\\\\Titanic_ML\\\\HIV_ml\\\\test_data.csv')"
   ]
  },
  {
   "cell_type": "code",
   "execution_count": 4,
   "metadata": {},
   "outputs": [
    {
     "data": {
      "text/html": [
       "<div>\n",
       "<style scoped>\n",
       "    .dataframe tbody tr th:only-of-type {\n",
       "        vertical-align: middle;\n",
       "    }\n",
       "\n",
       "    .dataframe tbody tr th {\n",
       "        vertical-align: top;\n",
       "    }\n",
       "\n",
       "    .dataframe thead th {\n",
       "        text-align: right;\n",
       "    }\n",
       "</style>\n",
       "<table border=\"1\" class=\"dataframe\">\n",
       "  <thead>\n",
       "    <tr style=\"text-align: right;\">\n",
       "      <th></th>\n",
       "      <th>PatientID</th>\n",
       "      <th>Resp</th>\n",
       "      <th>PR Seq</th>\n",
       "      <th>RT Seq</th>\n",
       "      <th>VL-t0</th>\n",
       "      <th>CD4-t0</th>\n",
       "    </tr>\n",
       "  </thead>\n",
       "  <tbody>\n",
       "    <tr>\n",
       "      <th>322</th>\n",
       "      <td>323</td>\n",
       "      <td>H</td>\n",
       "      <td>CCTCAAATCACTCTTTGGCAACGACCCATCGTCACAGTAAAGATAG...</td>\n",
       "      <td>CTCATTAGTCCTATTGAAACTGTACCAGTAAAATTAAAGCCAGGAA...</td>\n",
       "      <td>5.2</td>\n",
       "      <td>11</td>\n",
       "    </tr>\n",
       "    <tr>\n",
       "      <th>438</th>\n",
       "      <td>439</td>\n",
       "      <td>H</td>\n",
       "      <td>CCTCAAATCACTCTTTGGCAACGACCCCTCGTCACAATAAAGATAG...</td>\n",
       "      <td>CCCATTAGTCCTATTGAAACTGTACCAGTAAAATTAAAGCCAGGAA...</td>\n",
       "      <td>4.0</td>\n",
       "      <td>299</td>\n",
       "    </tr>\n",
       "    <tr>\n",
       "      <th>265</th>\n",
       "      <td>266</td>\n",
       "      <td>H</td>\n",
       "      <td>CCTCAAATCACTCTTTGGCAACGACCCATCGTCACAATAAAGATAG...</td>\n",
       "      <td>CCCATTAGTCCTATTGAAACAGTACCAGTAAAATTAAAGCCAGGAA...</td>\n",
       "      <td>4.2</td>\n",
       "      <td>643</td>\n",
       "    </tr>\n",
       "    <tr>\n",
       "      <th>681</th>\n",
       "      <td>682</td>\n",
       "      <td>H</td>\n",
       "      <td>CCTCAGATCACTCTTTGGCAACGACCCCTCGTCACAATAAAGATAG...</td>\n",
       "      <td>CCCATTAGTCCTATTGAAACTGTACCAGTAAAATTAAAGCCAGGAA...</td>\n",
       "      <td>4.4</td>\n",
       "      <td>362</td>\n",
       "    </tr>\n",
       "    <tr>\n",
       "      <th>616</th>\n",
       "      <td>617</td>\n",
       "      <td>H</td>\n",
       "      <td>CCTCAAATCACTCTTTGGCARCGACCAATAGTCAATGTAAAAATAG...</td>\n",
       "      <td>CCAATTAGTCCTATTGAAACTGTGCCAGTAAAATTAAAGCCAGGAA...</td>\n",
       "      <td>4.4</td>\n",
       "      <td>121</td>\n",
       "    </tr>\n",
       "  </tbody>\n",
       "</table>\n",
       "</div>"
      ],
      "text/plain": [
       "     PatientID Resp                                             PR Seq  \\\n",
       "322        323    H  CCTCAAATCACTCTTTGGCAACGACCCATCGTCACAGTAAAGATAG...   \n",
       "438        439    H  CCTCAAATCACTCTTTGGCAACGACCCCTCGTCACAATAAAGATAG...   \n",
       "265        266    H  CCTCAAATCACTCTTTGGCAACGACCCATCGTCACAATAAAGATAG...   \n",
       "681        682    H  CCTCAGATCACTCTTTGGCAACGACCCCTCGTCACAATAAAGATAG...   \n",
       "616        617    H  CCTCAAATCACTCTTTGGCARCGACCAATAGTCAATGTAAAAATAG...   \n",
       "\n",
       "                                                RT Seq  VL-t0  CD4-t0  \n",
       "322  CTCATTAGTCCTATTGAAACTGTACCAGTAAAATTAAAGCCAGGAA...    5.2      11  \n",
       "438  CCCATTAGTCCTATTGAAACTGTACCAGTAAAATTAAAGCCAGGAA...    4.0     299  \n",
       "265  CCCATTAGTCCTATTGAAACAGTACCAGTAAAATTAAAGCCAGGAA...    4.2     643  \n",
       "681  CCCATTAGTCCTATTGAAACTGTACCAGTAAAATTAAAGCCAGGAA...    4.4     362  \n",
       "616  CCAATTAGTCCTATTGAAACTGTGCCAGTAAAATTAAAGCCAGGAA...    4.4     121  "
      ]
     },
     "execution_count": 4,
     "metadata": {},
     "output_type": "execute_result"
    }
   ],
   "source": [
    "test.sample(5)"
   ]
  },
  {
   "cell_type": "code",
   "execution_count": 5,
   "metadata": {},
   "outputs": [
    {
     "name": "stdout",
     "output_type": "stream",
     "text": [
      "<class 'pandas.core.frame.DataFrame'>\n",
      "RangeIndex: 1000 entries, 0 to 999\n",
      "Data columns (total 6 columns):\n",
      "PatientID    1000 non-null int64\n",
      "Resp         1000 non-null int64\n",
      "PR Seq       920 non-null object\n",
      "RT Seq       1000 non-null object\n",
      "VL-t0        1000 non-null float64\n",
      "CD4-t0       1000 non-null int64\n",
      "dtypes: float64(1), int64(3), object(2)\n",
      "memory usage: 47.0+ KB\n"
     ]
    }
   ],
   "source": [
    "train.info()"
   ]
  },
  {
   "cell_type": "code",
   "execution_count": 6,
   "metadata": {},
   "outputs": [
    {
     "data": {
      "text/plain": [
       "Index(['PatientID', 'Resp', 'PR Seq', 'RT Seq', 'VL-t0', 'CD4-t0'], dtype='object')"
      ]
     },
     "execution_count": 6,
     "metadata": {},
     "output_type": "execute_result"
    }
   ],
   "source": [
    "train.columns"
   ]
  },
  {
   "cell_type": "code",
   "execution_count": 7,
   "metadata": {},
   "outputs": [
    {
     "data": {
      "text/plain": [
       "0    794\n",
       "1    206\n",
       "Name: Resp, dtype: int64"
      ]
     },
     "execution_count": 7,
     "metadata": {},
     "output_type": "execute_result"
    }
   ],
   "source": [
    "train.Resp.value_counts()"
   ]
  },
  {
   "cell_type": "code",
   "execution_count": 11,
   "metadata": {},
   "outputs": [
    {
     "data": {
      "text/plain": [
       "6.0"
      ]
     },
     "execution_count": 11,
     "metadata": {},
     "output_type": "execute_result"
    }
   ],
   "source": [
    "train['VL-t0'].max()"
   ]
  },
  {
   "cell_type": "code",
   "execution_count": 12,
   "metadata": {},
   "outputs": [
    {
     "data": {
      "text/plain": [
       "2.7"
      ]
     },
     "execution_count": 12,
     "metadata": {},
     "output_type": "execute_result"
    }
   ],
   "source": [
    "train['VL-t0'].min()"
   ]
  },
  {
   "cell_type": "code",
   "execution_count": 14,
   "metadata": {},
   "outputs": [
    {
     "data": {
      "text/plain": [
       "4.297209999999996"
      ]
     },
     "execution_count": 14,
     "metadata": {},
     "output_type": "execute_result"
    }
   ],
   "source": [
    "train['VL-t0'].mean()"
   ]
  },
  {
   "cell_type": "code",
   "execution_count": 17,
   "metadata": {},
   "outputs": [
    {
     "name": "stderr",
     "output_type": "stream",
     "text": [
      "C:\\Users\\rabis\\Anaconda3\\lib\\site-packages\\matplotlib\\axes\\_axes.py:6462: UserWarning: The 'normed' kwarg is deprecated, and has been replaced by the 'density' kwarg.\n",
      "  warnings.warn(\"The 'normed' kwarg is deprecated, and has been \"\n"
     ]
    },
    {
     "data": {
      "text/plain": [
       "<matplotlib.axes._subplots.AxesSubplot at 0x17cde3ecdd8>"
      ]
     },
     "execution_count": 17,
     "metadata": {},
     "output_type": "execute_result"
    },
    {
     "data": {
      "image/png": "[encoded data removed]",
      "text/plain": [
       "<Figure size 432x288 with 1 Axes>"
      ]
     },
     "metadata": {},
     "output_type": "display_data"
    }
   ],
   "source": [
    "sns.distplot(train.Resp, bins=20)"
   ]
  },
  {
   "cell_type": "code",
   "execution_count": 19,
   "metadata": {},
   "outputs": [
    {
     "data": {
      "text/plain": [
       "0"
      ]
     },
     "execution_count": 19,
     "metadata": {},
     "output_type": "execute_result"
    }
   ],
   "source": [
    "train.PatientID.isnull().sum()"
   ]
  },
  {
   "cell_type": "code",
   "execution_count": 20,
   "metadata": {},
   "outputs": [
    {
     "data": {
      "text/plain": [
       "0"
      ]
     },
     "execution_count": 20,
     "metadata": {},
     "output_type": "execute_result"
    }
   ],
   "source": [
    "test.PatientID.isnull().sum()"
   ]
  },
  {
   "cell_type": "code",
   "execution_count": 21,
   "metadata": {},
   "outputs": [
    {
     "data": {
      "text/plain": [
       "H    692\n",
       "Name: Resp, dtype: int64"
      ]
     },
     "execution_count": 21,
     "metadata": {},
     "output_type": "execute_result"
    }
   ],
   "source": [
    "test.Resp.value_counts()"
   ]
  },
  {
   "cell_type": "code",
   "execution_count": 22,
   "metadata": {},
   "outputs": [
    {
     "data": {
      "text/plain": [
       "Index(['PatientID', 'Resp', 'PR Seq', 'RT Seq', 'VL-t0', 'CD4-t0'], dtype='object')"
      ]
     },
     "execution_count": 22,
     "metadata": {},
     "output_type": "execute_result"
    }
   ],
   "source": [
    "test.columns"
   ]
  },
  {
   "cell_type": "code",
   "execution_count": 24,
   "metadata": {},
   "outputs": [
    {
     "name": "stdout",
     "output_type": "stream",
     "text": [
      "<class 'pandas.core.frame.DataFrame'>\n",
      "RangeIndex: 692 entries, 0 to 691\n",
      "Data columns (total 6 columns):\n",
      "PatientID    692 non-null int64\n",
      "Resp         692 non-null object\n",
      "PR Seq       692 non-null object\n",
      "RT Seq       692 non-null object\n",
      "VL-t0        692 non-null float64\n",
      "CD4-t0       692 non-null int64\n",
      "dtypes: float64(1), int64(2), object(3)\n",
      "memory usage: 32.5+ KB\n"
     ]
    }
   ],
   "source": [
    "test.info()\n"
   ]
  },
  {
   "cell_type": "code",
   "execution_count": null,
   "metadata": {},
   "outputs": [],
   "source": [
    "te"
   ]
  }
 ],
 "metadata": {
  "kernelspec": {
   "display_name": "Python 3",
   "language": "python",
   "name": "python3"
  },
  "language_info": {
   "codemirror_mode": {
    "name": "ipython",
    "version": 3
   },
   "file_extension": ".py",
   "mimetype": "text/x-python",
   "name": "python",
   "nbconvert_exporter": "python",
   "pygments_lexer": "ipython3",
   "version": "3.6.5"
  }
 },
 "nbformat": 4,
 "nbformat_minor": 2
}

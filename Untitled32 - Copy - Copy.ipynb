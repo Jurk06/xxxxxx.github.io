{
 "cells": [
  {
   "cell_type": "code",
   "execution_count": 4,
   "metadata": {},
   "outputs": [],
   "source": [
    "from sklearn.datasets import load_iris\n",
    "from sklearn.model_selection import train_test_split\n",
    "from sklearn.ensemble import GradientBoostingClassifier\n",
    "\n",
    "iris=load_iris()"
   ]
  },
  {
   "cell_type": "code",
   "execution_count": 9,
   "metadata": {},
   "outputs": [
    {
     "data": {
      "text/plain": [
       "GradientBoostingClassifier(criterion='friedman_mse', init=None,\n",
       "              learning_rate=0.01, loss='deviance', max_depth=3,\n",
       "              max_features=None, max_leaf_nodes=None,\n",
       "              min_impurity_decrease=0.0, min_impurity_split=None,\n",
       "              min_samples_leaf=1, min_samples_split=2,\n",
       "              min_weight_fraction_leaf=0.0, n_estimators=100,\n",
       "              presort='auto', random_state=0, subsample=1.0, verbose=0,\n",
       "              warm_start=False)"
      ]
     },
     "execution_count": 9,
     "metadata": {},
     "output_type": "execute_result"
    }
   ],
   "source": [
    "X_train,X_test, y_train, y_test=train_test_split(iris.data, iris.target, random_state=42)\n",
    "gbrt=GradientBoostingClassifier(learning_rate=0.01, random_state=0)\n",
    "\n",
    "gbrt.fit(X_train,y_train)"
   ]
  },
  {
   "cell_type": "code",
   "execution_count": 10,
   "metadata": {},
   "outputs": [
    {
     "name": "stdout",
     "output_type": "stream",
     "text": [
      "The dicision function of 3 class:\n",
      "\n",
      "[[0.78880668 0.10599243 0.10520089]\n",
      " [0.78880668 0.10599243 0.10520089]\n",
      " [0.11012973 0.12126665 0.76860362]\n",
      " [0.10664722 0.7840248  0.10932798]\n",
      " [0.10664722 0.7840248  0.10932798]\n",
      " [0.78880668 0.10599243 0.10520089]\n",
      " [0.78880668 0.10599243 0.10520089]\n",
      " [0.10664722 0.7840248  0.10932798]\n",
      " [0.12462024 0.40543491 0.46994485]\n",
      " [0.1022747  0.1082272  0.78949809]]\n"
     ]
    }
   ],
   "source": [
    "print('The dicision function of 3 class:\\n\\n{}'.format(gbrt.predict_proba(X_train[:10])))"
   ]
  },
  {
   "cell_type": "code",
   "execution_count": 11,
   "metadata": {},
   "outputs": [
    {
     "name": "stdout",
     "output_type": "stream",
     "text": [
      "The decision function of 3 class:\n",
      "\n",
      "[[0.10664722 0.7840248  0.10932798]\n",
      " [0.78880668 0.10599243 0.10520089]\n",
      " [0.10231173 0.10822274 0.78946553]\n",
      " [0.10664722 0.7840248  0.10932798]\n",
      " [0.10825347 0.66344934 0.22829719]\n",
      " [0.78880668 0.10599243 0.10520089]\n",
      " [0.10664722 0.7840248  0.10932798]\n",
      " [0.10170311 0.10829611 0.79000078]\n",
      " [0.10664722 0.7840248  0.10932798]\n",
      " [0.10664722 0.7840248  0.10932798]]\n"
     ]
    }
   ],
   "source": [
    "print('The decision function of 3 class:\\n\\n{}'.format(gbrt.predict_proba(X_test[:10])))"
   ]
  },
  {
   "cell_type": "code",
   "execution_count": 12,
   "metadata": {},
   "outputs": [],
   "source": [
    "from sklearn import preprocessing \n",
    "import numpy as np\n",
    "\n",
    "data=np.array([[2.2,5.9,-1.8],[5.4,-3.2,-5.4],[-1.9, 4.2,3.2]])"
   ]
  },
  {
   "cell_type": "code",
   "execution_count": 13,
   "metadata": {},
   "outputs": [
    {
     "name": "stdout",
     "output_type": "stream",
     "text": [
      "Binarized:\n",
      "\n",
      " [[1. 1. 0.]\n",
      " [1. 0. 0.]\n",
      " [0. 1. 1.]]\n"
     ]
    }
   ],
   "source": [
    "bindata=preprocessing.Binarizer(threshold=1.5).transform(data)\n",
    "print('Binarized:\\n\\n', bindata)"
   ]
  },
  {
   "cell_type": "code",
   "execution_count": 14,
   "metadata": {},
   "outputs": [
    {
     "data": {
      "text/plain": [
       "array([[ 2.2,  5.9, -1.8],\n",
       "       [ 5.4, -3.2, -5.4],\n",
       "       [-1.9,  4.2,  3.2]])"
      ]
     },
     "execution_count": 14,
     "metadata": {},
     "output_type": "execute_result"
    }
   ],
   "source": [
    "data"
   ]
  },
  {
   "cell_type": "code",
   "execution_count": 15,
   "metadata": {},
   "outputs": [],
   "source": [
    "data_l1=preprocessing.normalize(data, norm='l1')\n",
    "data_l2=preprocessing.normalize(data, norm='l2')"
   ]
  },
  {
   "cell_type": "code",
   "execution_count": 17,
   "metadata": {},
   "outputs": [
    {
     "name": "stdout",
     "output_type": "stream",
     "text": [
      "L1-normalize data:\n",
      "\n",
      " [[ 0.22222222  0.5959596  -0.18181818]\n",
      " [ 0.38571429 -0.22857143 -0.38571429]\n",
      " [-0.20430108  0.4516129   0.34408602]]\n"
     ]
    }
   ],
   "source": [
    "print('L1-normalize data:\\n\\n', data_l1)"
   ]
  },
  {
   "cell_type": "code",
   "execution_count": 18,
   "metadata": {},
   "outputs": [
    {
     "name": "stdout",
     "output_type": "stream",
     "text": [
      "L2-normalize data:\n",
      "\n",
      " [[ 0.3359268   0.90089461 -0.2748492 ]\n",
      " [ 0.6521663  -0.38646892 -0.6521663 ]\n",
      " [-0.33858465  0.74845029  0.57024784]]\n"
     ]
    }
   ],
   "source": [
    "print('L2-normalize data:\\n\\n', data_l2)"
   ]
  },
  {
   "cell_type": "code",
   "execution_count": null,
   "metadata": {},
   "outputs": [],
   "source": []
  }
 ],
 "metadata": {
  "kernelspec": {
   "display_name": "Python 3",
   "language": "python",
   "name": "python3"
  },
  "language_info": {
   "codemirror_mode": {
    "name": "ipython",
    "version": 3
   },
   "file_extension": ".py",
   "mimetype": "text/x-python",
   "name": "python",
   "nbconvert_exporter": "python",
   "pygments_lexer": "ipython3",
   "version": "3.6.5"
  }
 },
 "nbformat": 4,
 "nbformat_minor": 2
}

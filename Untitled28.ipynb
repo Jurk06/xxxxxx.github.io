{
 "cells": [
  {
   "cell_type": "code",
   "execution_count": 1,
   "metadata": {},
   "outputs": [],
   "source": [
    "import keras\n",
    "from keras.models import Sequential \n",
    "from keras.layers import Dense, Dropout, Activation\n",
    "from keras.optimizers import SGD\n"
   ]
  },
  {
   "cell_type": "code",
   "execution_count": 2,
   "metadata": {},
   "outputs": [],
   "source": [
    "import numpy as np\n"
   ]
  },
  {
   "cell_type": "code",
   "execution_count": 3,
   "metadata": {},
   "outputs": [],
   "source": [
    "X_train=np.random.random((1000, 20))\n",
    "X_test=np.random.random((100,20))\n",
    "y_train=keras.utils.to_categorical(np.random.randint(10, size=(1000, 1)), num_classes=10)\n",
    "y_test=keras.utils.to_categorical(np.random.randint(10, size=(100, 1)), num_classes=10)"
   ]
  },
  {
   "cell_type": "code",
   "execution_count": 4,
   "metadata": {},
   "outputs": [],
   "source": [
    "model=Sequential()"
   ]
  },
  {
   "cell_type": "code",
   "execution_count": 5,
   "metadata": {},
   "outputs": [],
   "source": [
    "model.add(Dense(64, activation='relu', input_dim=20 ))\n",
    "model.add(Dropout(0.5))\n",
    "model.add(Dense(64, activation='relu'))\n",
    "model.add(Dropout(0.5))\n",
    "model.add(Dense(10, activation='softmax'))"
   ]
  },
  {
   "cell_type": "code",
   "execution_count": 6,
   "metadata": {},
   "outputs": [],
   "source": [
    "sgd=SGD(lr=0.01, momentum=0.9, nesterov=True)\n",
    "model.compile(loss='categorical_crossentropy', optimizer=sgd, metrics=['accuracy'])\n"
   ]
  },
  {
   "cell_type": "code",
   "execution_count": 8,
   "metadata": {},
   "outputs": [
    {
     "name": "stdout",
     "output_type": "stream",
     "text": [
      "Epoch 1/20\n",
      "1000/1000 [==============================] - 0s 28us/step - loss: 2.3295 - acc: 0.1050\n",
      "Epoch 2/20\n",
      "1000/1000 [==============================] - 0s 32us/step - loss: 2.3118 - acc: 0.1070\n",
      "Epoch 3/20\n",
      "1000/1000 [==============================] - 0s 32us/step - loss: 2.3149 - acc: 0.1030\n",
      "Epoch 4/20\n",
      "1000/1000 [==============================] - 0s 32us/step - loss: 2.3093 - acc: 0.1200\n",
      "Epoch 5/20\n",
      "1000/1000 [==============================] - 0s 32us/step - loss: 2.3073 - acc: 0.1130\n",
      "Epoch 6/20\n",
      "1000/1000 [==============================] - 0s 36us/step - loss: 2.3057 - acc: 0.1070\n",
      "Epoch 7/20\n",
      "1000/1000 [==============================] - 0s 36us/step - loss: 2.3033 - acc: 0.1140\n",
      "Epoch 8/20\n",
      "1000/1000 [==============================] - 0s 36us/step - loss: 2.2915 - acc: 0.1440\n",
      "Epoch 9/20\n",
      "1000/1000 [==============================] - 0s 32us/step - loss: 2.3003 - acc: 0.1300\n",
      "Epoch 10/20\n",
      "1000/1000 [==============================] - 0s 36us/step - loss: 2.2931 - acc: 0.1200\n",
      "Epoch 11/20\n",
      "1000/1000 [==============================] - 0s 36us/step - loss: 2.3024 - acc: 0.1280\n",
      "Epoch 12/20\n",
      "1000/1000 [==============================] - 0s 36us/step - loss: 2.2985 - acc: 0.1190\n",
      "Epoch 13/20\n",
      "1000/1000 [==============================] - 0s 44us/step - loss: 2.3010 - acc: 0.1170\n",
      "Epoch 14/20\n",
      "1000/1000 [==============================] - ETA: 0s - loss: 2.3147 - acc: 0.093 - 0s 32us/step - loss: 2.3030 - acc: 0.1170\n",
      "Epoch 15/20\n",
      "1000/1000 [==============================] - 0s 36us/step - loss: 2.3055 - acc: 0.1210\n",
      "Epoch 16/20\n",
      "1000/1000 [==============================] - 0s 32us/step - loss: 2.3063 - acc: 0.1000\n",
      "Epoch 17/20\n",
      "1000/1000 [==============================] - 0s 44us/step - loss: 2.3009 - acc: 0.1080\n",
      "Epoch 18/20\n",
      "1000/1000 [==============================] - 0s 36us/step - loss: 2.3034 - acc: 0.1110\n",
      "Epoch 19/20\n",
      "1000/1000 [==============================] - 0s 40us/step - loss: 2.2873 - acc: 0.1300\n",
      "Epoch 20/20\n",
      "1000/1000 [==============================] - 0s 44us/step - loss: 2.2907 - acc: 0.1260\n"
     ]
    },
    {
     "data": {
      "text/plain": [
       "<keras.callbacks.History at 0x176f48e9b70>"
      ]
     },
     "execution_count": 8,
     "metadata": {},
     "output_type": "execute_result"
    }
   ],
   "source": [
    "model.fit(X_train, y_train, epochs=20, batch_size=128)"
   ]
  },
  {
   "cell_type": "code",
   "execution_count": 11,
   "metadata": {},
   "outputs": [
    {
     "name": "stdout",
     "output_type": "stream",
     "text": [
      "\r",
      "100/100 [==============================] - 0s 40us/step\n"
     ]
    }
   ],
   "source": [
    "score=model.evaluate(X_test, y_test, batch_size=128)"
   ]
  },
  {
   "cell_type": "code",
   "execution_count": 12,
   "metadata": {},
   "outputs": [
    {
     "name": "stdout",
     "output_type": "stream",
     "text": [
      "[2.313387870788574, 0.07000000029802322]\n"
     ]
    }
   ],
   "source": [
    "print(score)"
   ]
  },
  {
   "cell_type": "code",
   "execution_count": 13,
   "metadata": {},
   "outputs": [],
   "source": [
    "model1=Sequential()"
   ]
  },
  {
   "cell_type": "code",
   "execution_count": 14,
   "metadata": {},
   "outputs": [],
   "source": [
    "model1.add(Dense(64, activation='relu', input_dim=20))\n",
    "model1.add(Dropout(0.5))\n",
    "model1.add(Dense(64, activation='relu'))\n",
    "model1.add(Dropout(0.5))\n",
    "model1.add(Dense(1, activation='sigmoid'))"
   ]
  },
  {
   "cell_type": "code",
   "execution_count": null,
   "metadata": {},
   "outputs": [],
   "source": []
  },
  {
   "cell_type": "code",
   "execution_count": null,
   "metadata": {},
   "outputs": [],
   "source": []
  }
 ],
 "metadata": {
  "kernelspec": {
   "display_name": "Python 3",
   "language": "python",
   "name": "python3"
  },
  "language_info": {
   "codemirror_mode": {
    "name": "ipython",
    "version": 3
   },
   "file_extension": ".py",
   "mimetype": "text/x-python",
   "name": "python",
   "nbconvert_exporter": "python",
   "pygments_lexer": "ipython3",
   "version": "3.6.5"
  }
 },
 "nbformat": 4,
 "nbformat_minor": 2
}

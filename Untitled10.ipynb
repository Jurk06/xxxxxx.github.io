{
 "cells": [
  {
   "cell_type": "code",
   "execution_count": 55,
   "metadata": {},
   "outputs": [],
   "source": [
    "import pandas as pd\n",
    "import matplotlib.pyplot as plt"
   ]
  },
  {
   "cell_type": "code",
   "execution_count": 2,
   "metadata": {},
   "outputs": [],
   "source": [
    "df=pd.read_csv('D:\\\\python\\\\Titanic_ML\\\\box_office\\\\box_office_predictions.csv')\n"
   ]
  },
  {
   "cell_type": "code",
   "execution_count": 3,
   "metadata": {},
   "outputs": [],
   "source": [
    "train=[df]\n"
   ]
  },
  {
   "cell_type": "code",
   "execution_count": 4,
   "metadata": {},
   "outputs": [],
   "source": [
    "for dataset in train:\n",
    "    dataset.loc[dataset['score']<=1.5, 'score']=0\n",
    "    dataset.loc[(dataset['score']>1.5) & (dataset['score']<2), 'score']=1\n",
    "    dataset.loc[(dataset['score']>2) & (dataset['score']<3), 'score']=2\n",
    "    dataset.loc[(dataset['score']>3) & (dataset['score']<4), 'score']=3\n",
    "    dataset.loc[(dataset['score']>4) & (dataset['score']<5), 'score']=4\n",
    "    dataset.loc[(dataset['score']>5) & (dataset['score']<6), 'score']=5\n",
    "    dataset.loc[(dataset['score']>6) & (dataset['score']<7), 'score']=6\n",
    "    dataset.loc[(dataset['score']>7) & (dataset['score']<8), 'score']=7\n",
    "    dataset.loc[(dataset['score']>8) & (dataset['score']<9), 'score']=8\n",
    "    dataset.loc[dataset['score']>9, 'score']=9"
   ]
  },
  {
   "cell_type": "code",
   "execution_count": 5,
   "metadata": {},
   "outputs": [
    {
     "data": {
      "text/html": [
       "<div>\n",
       "<style scoped>\n",
       "    .dataframe tbody tr th:only-of-type {\n",
       "        vertical-align: middle;\n",
       "    }\n",
       "\n",
       "    .dataframe tbody tr th {\n",
       "        vertical-align: top;\n",
       "    }\n",
       "\n",
       "    .dataframe thead th {\n",
       "        text-align: right;\n",
       "    }\n",
       "</style>\n",
       "<table border=\"1\" class=\"dataframe\">\n",
       "  <thead>\n",
       "    <tr style=\"text-align: right;\">\n",
       "      <th></th>\n",
       "      <th>budget</th>\n",
       "      <th>country</th>\n",
       "      <th>director</th>\n",
       "      <th>genre</th>\n",
       "      <th>gross</th>\n",
       "      <th>name</th>\n",
       "      <th>rating</th>\n",
       "      <th>runtime</th>\n",
       "      <th>score</th>\n",
       "      <th>star</th>\n",
       "      <th>studio</th>\n",
       "      <th>votes</th>\n",
       "    </tr>\n",
       "  </thead>\n",
       "  <tbody>\n",
       "    <tr>\n",
       "      <th>1861</th>\n",
       "      <td>4000000.0</td>\n",
       "      <td>USA</td>\n",
       "      <td>Marc Forster</td>\n",
       "      <td>Drama</td>\n",
       "      <td>31252964.0</td>\n",
       "      <td>Monster's Ball (2001)</td>\n",
       "      <td>R</td>\n",
       "      <td>111</td>\n",
       "      <td>7.0</td>\n",
       "      <td>Billy Bob Thornton</td>\n",
       "      <td>Lee Daniels Entertainment</td>\n",
       "      <td>74915</td>\n",
       "    </tr>\n",
       "    <tr>\n",
       "      <th>5206</th>\n",
       "      <td>0.0</td>\n",
       "      <td>UK</td>\n",
       "      <td>Ken Russell</td>\n",
       "      <td>Biography</td>\n",
       "      <td>331469.0</td>\n",
       "      <td>Salome's Last Dance (1988)</td>\n",
       "      <td>R</td>\n",
       "      <td>89</td>\n",
       "      <td>6.0</td>\n",
       "      <td>Glenda Jackson</td>\n",
       "      <td>Jolly Russell Productions</td>\n",
       "      <td>1115</td>\n",
       "    </tr>\n",
       "    <tr>\n",
       "      <th>5914</th>\n",
       "      <td>6000000.0</td>\n",
       "      <td>USA</td>\n",
       "      <td>Tony Cinciripini</td>\n",
       "      <td>Drama</td>\n",
       "      <td>9122.0</td>\n",
       "      <td>Hell's Kitchen (1998)</td>\n",
       "      <td>R</td>\n",
       "      <td>95</td>\n",
       "      <td>4.0</td>\n",
       "      <td>Rosanna Arquette</td>\n",
       "      <td>HK Film Corporation</td>\n",
       "      <td>2218</td>\n",
       "    </tr>\n",
       "    <tr>\n",
       "      <th>4579</th>\n",
       "      <td>0.0</td>\n",
       "      <td>France</td>\n",
       "      <td>Krzysztof Kieslowski</td>\n",
       "      <td>Drama</td>\n",
       "      <td>1324974.0</td>\n",
       "      <td>Three Colors: Blue (1993)</td>\n",
       "      <td>R</td>\n",
       "      <td>98</td>\n",
       "      <td>8.0</td>\n",
       "      <td>Juliette Binoche</td>\n",
       "      <td>MK2 Productions</td>\n",
       "      <td>68940</td>\n",
       "    </tr>\n",
       "    <tr>\n",
       "      <th>4569</th>\n",
       "      <td>15000000.0</td>\n",
       "      <td>USA</td>\n",
       "      <td>John Waters</td>\n",
       "      <td>Comedy</td>\n",
       "      <td>1339668.0</td>\n",
       "      <td>A Dirty Shame (2004)</td>\n",
       "      <td>NC-17</td>\n",
       "      <td>89</td>\n",
       "      <td>5.0</td>\n",
       "      <td>Tracey Ullman</td>\n",
       "      <td>Fine Line Features</td>\n",
       "      <td>11160</td>\n",
       "    </tr>\n",
       "  </tbody>\n",
       "</table>\n",
       "</div>"
      ],
      "text/plain": [
       "          budget country              director      genre       gross  \\\n",
       "1861   4000000.0     USA          Marc Forster      Drama  31252964.0   \n",
       "5206         0.0      UK           Ken Russell  Biography    331469.0   \n",
       "5914   6000000.0     USA      Tony Cinciripini      Drama      9122.0   \n",
       "4579         0.0  France  Krzysztof Kieslowski      Drama   1324974.0   \n",
       "4569  15000000.0     USA           John Waters     Comedy   1339668.0   \n",
       "\n",
       "                            name rating  runtime  score                star  \\\n",
       "1861       Monster's Ball (2001)      R      111    7.0  Billy Bob Thornton   \n",
       "5206  Salome's Last Dance (1988)      R       89    6.0      Glenda Jackson   \n",
       "5914       Hell's Kitchen (1998)      R       95    4.0    Rosanna Arquette   \n",
       "4579   Three Colors: Blue (1993)      R       98    8.0    Juliette Binoche   \n",
       "4569        A Dirty Shame (2004)  NC-17       89    5.0       Tracey Ullman   \n",
       "\n",
       "                         studio  votes  \n",
       "1861  Lee Daniels Entertainment  74915  \n",
       "5206  Jolly Russell Productions   1115  \n",
       "5914        HK Film Corporation   2218  \n",
       "4579            MK2 Productions  68940  \n",
       "4569         Fine Line Features  11160  "
      ]
     },
     "execution_count": 5,
     "metadata": {},
     "output_type": "execute_result"
    }
   ],
   "source": [
    "df.sample(5)"
   ]
  },
  {
   "cell_type": "code",
   "execution_count": 46,
   "metadata": {},
   "outputs": [],
   "source": [
    "from sklearn.linear_model import LogisticRegression\n",
    "from sklearn.model_selection import cross_val_score, train_test_split\n",
    "from sklearn import metrics\n",
    "from sklearn.tree import DecisionTreeRegressor\n",
    "from sklearn.naive_bayes import GaussianNB\n",
    "from sklearn.svm import SVC"
   ]
  },
  {
   "cell_type": "code",
   "execution_count": 7,
   "metadata": {},
   "outputs": [],
   "source": [
    "feature_col=['gross']\n",
    "x=df[feature_col]\n",
    "y=df.score"
   ]
  },
  {
   "cell_type": "code",
   "execution_count": 14,
   "metadata": {},
   "outputs": [],
   "source": [
    "log=LogisticRegression(C=1000)"
   ]
  },
  {
   "cell_type": "code",
   "execution_count": 15,
   "metadata": {},
   "outputs": [],
   "source": [
    "X_train, X_test, y_train, y_test=train_test_split(x, y, random_state=3)"
   ]
  },
  {
   "cell_type": "code",
   "execution_count": 16,
   "metadata": {},
   "outputs": [
    {
     "data": {
      "text/plain": [
       "LogisticRegression(C=1000, class_weight=None, dual=False, fit_intercept=True,\n",
       "          intercept_scaling=1, max_iter=100, multi_class='ovr', n_jobs=1,\n",
       "          penalty='l2', random_state=None, solver='liblinear', tol=0.0001,\n",
       "          verbose=0, warm_start=False)"
      ]
     },
     "execution_count": 16,
     "metadata": {},
     "output_type": "execute_result"
    }
   ],
   "source": [
    "log.fit(X_train, y_train)"
   ]
  },
  {
   "cell_type": "code",
   "execution_count": 17,
   "metadata": {},
   "outputs": [],
   "source": [
    "y_pred=log.predict(X_test)"
   ]
  },
  {
   "cell_type": "code",
   "execution_count": 18,
   "metadata": {},
   "outputs": [
    {
     "name": "stdout",
     "output_type": "stream",
     "text": [
      "0.4073333333333333\n"
     ]
    }
   ],
   "source": [
    "print(metrics.accuracy_score(y_test, y_pred))"
   ]
  },
  {
   "cell_type": "code",
   "execution_count": 19,
   "metadata": {},
   "outputs": [
    {
     "name": "stdout",
     "output_type": "stream",
     "text": [
      "0.3844444444444444\n"
     ]
    }
   ],
   "source": [
    "print(log.score(X_train, y_train))"
   ]
  },
  {
   "cell_type": "code",
   "execution_count": 21,
   "metadata": {},
   "outputs": [],
   "source": [
    "genre_mapping={\"Comedy\":0,\"Drama\":0.5,\"Action\":1,\"Crime\":1.5,\"Adventure\":2,\"Biography\":2.5,\"Animation\":3,\n",
    "              \"Horror\":3.5,\"Mystery\":4,\"Fantasy\":5,\"Thriller\":5.5,\"Romance\":6,\"Sci-Fi\":6.5,\"Family\":7,\"Musical\":7.5,\n",
    "              \"Western\":8,\"War\":8.5}\n",
    "for dataset in train:\n",
    "    dataset['genre']=dataset['genre'].map(genre_mapping)"
   ]
  },
  {
   "cell_type": "code",
   "execution_count": 22,
   "metadata": {},
   "outputs": [
    {
     "data": {
      "text/html": [
       "<div>\n",
       "<style scoped>\n",
       "    .dataframe tbody tr th:only-of-type {\n",
       "        vertical-align: middle;\n",
       "    }\n",
       "\n",
       "    .dataframe tbody tr th {\n",
       "        vertical-align: top;\n",
       "    }\n",
       "\n",
       "    .dataframe thead th {\n",
       "        text-align: right;\n",
       "    }\n",
       "</style>\n",
       "<table border=\"1\" class=\"dataframe\">\n",
       "  <thead>\n",
       "    <tr style=\"text-align: right;\">\n",
       "      <th></th>\n",
       "      <th>budget</th>\n",
       "      <th>country</th>\n",
       "      <th>director</th>\n",
       "      <th>genre</th>\n",
       "      <th>gross</th>\n",
       "      <th>name</th>\n",
       "      <th>rating</th>\n",
       "      <th>runtime</th>\n",
       "      <th>score</th>\n",
       "      <th>star</th>\n",
       "      <th>studio</th>\n",
       "      <th>votes</th>\n",
       "    </tr>\n",
       "  </thead>\n",
       "  <tbody>\n",
       "    <tr>\n",
       "      <th>0</th>\n",
       "      <td>237000000.0</td>\n",
       "      <td>UK</td>\n",
       "      <td>James Cameron</td>\n",
       "      <td>1.0</td>\n",
       "      <td>760507625.0</td>\n",
       "      <td>Avatar (2009)</td>\n",
       "      <td>PG-13</td>\n",
       "      <td>162</td>\n",
       "      <td>7.0</td>\n",
       "      <td>Sam Worthington</td>\n",
       "      <td>Twentieth Century Fox Film Corporation</td>\n",
       "      <td>958400</td>\n",
       "    </tr>\n",
       "    <tr>\n",
       "      <th>1</th>\n",
       "      <td>200000000.0</td>\n",
       "      <td>USA</td>\n",
       "      <td>James Cameron</td>\n",
       "      <td>0.5</td>\n",
       "      <td>658672302.0</td>\n",
       "      <td>Titanic (1997)</td>\n",
       "      <td>PG-13</td>\n",
       "      <td>194</td>\n",
       "      <td>7.0</td>\n",
       "      <td>Leonardo DiCaprio</td>\n",
       "      <td>Twentieth Century Fox Film Corporation</td>\n",
       "      <td>865551</td>\n",
       "    </tr>\n",
       "    <tr>\n",
       "      <th>2</th>\n",
       "      <td>150000000.0</td>\n",
       "      <td>USA</td>\n",
       "      <td>Colin Trevorrow</td>\n",
       "      <td>1.0</td>\n",
       "      <td>652270625.0</td>\n",
       "      <td>Jurassic World (2015)</td>\n",
       "      <td>PG-13</td>\n",
       "      <td>124</td>\n",
       "      <td>7.0</td>\n",
       "      <td>Chris Pratt</td>\n",
       "      <td>Universal Pictures</td>\n",
       "      <td>470625</td>\n",
       "    </tr>\n",
       "    <tr>\n",
       "      <th>3</th>\n",
       "      <td>220000000.0</td>\n",
       "      <td>USA</td>\n",
       "      <td>Joss Whedon</td>\n",
       "      <td>1.0</td>\n",
       "      <td>623357910.0</td>\n",
       "      <td>The Avengers (2012)</td>\n",
       "      <td>PG-13</td>\n",
       "      <td>143</td>\n",
       "      <td>8.0</td>\n",
       "      <td>Robert Downey Jr.</td>\n",
       "      <td>Marvel Studios</td>\n",
       "      <td>1069292</td>\n",
       "    </tr>\n",
       "    <tr>\n",
       "      <th>4</th>\n",
       "      <td>185000000.0</td>\n",
       "      <td>USA</td>\n",
       "      <td>Christopher Nolan</td>\n",
       "      <td>1.0</td>\n",
       "      <td>534858444.0</td>\n",
       "      <td>The Dark Knight (2008)</td>\n",
       "      <td>PG-13</td>\n",
       "      <td>152</td>\n",
       "      <td>9.0</td>\n",
       "      <td>Christian Bale</td>\n",
       "      <td>Warner Bros.</td>\n",
       "      <td>1845853</td>\n",
       "    </tr>\n",
       "  </tbody>\n",
       "</table>\n",
       "</div>"
      ],
      "text/plain": [
       "        budget country           director  genre        gross  \\\n",
       "0  237000000.0      UK      James Cameron    1.0  760507625.0   \n",
       "1  200000000.0     USA      James Cameron    0.5  658672302.0   \n",
       "2  150000000.0     USA    Colin Trevorrow    1.0  652270625.0   \n",
       "3  220000000.0     USA        Joss Whedon    1.0  623357910.0   \n",
       "4  185000000.0     USA  Christopher Nolan    1.0  534858444.0   \n",
       "\n",
       "                     name rating  runtime  score               star  \\\n",
       "0           Avatar (2009)  PG-13      162    7.0    Sam Worthington   \n",
       "1          Titanic (1997)  PG-13      194    7.0  Leonardo DiCaprio   \n",
       "2   Jurassic World (2015)  PG-13      124    7.0        Chris Pratt   \n",
       "3     The Avengers (2012)  PG-13      143    8.0  Robert Downey Jr.   \n",
       "4  The Dark Knight (2008)  PG-13      152    9.0     Christian Bale   \n",
       "\n",
       "                                   studio    votes  \n",
       "0  Twentieth Century Fox Film Corporation   958400  \n",
       "1  Twentieth Century Fox Film Corporation   865551  \n",
       "2                      Universal Pictures   470625  \n",
       "3                          Marvel Studios  1069292  \n",
       "4                            Warner Bros.  1845853  "
      ]
     },
     "execution_count": 22,
     "metadata": {},
     "output_type": "execute_result"
    }
   ],
   "source": [
    "df.head()"
   ]
  },
  {
   "cell_type": "code",
   "execution_count": 28,
   "metadata": {},
   "outputs": [],
   "source": [
    "feature_col=['genre','score']\n",
    "X=df[feature_col]\n",
    "y=df.gross"
   ]
  },
  {
   "cell_type": "code",
   "execution_count": 29,
   "metadata": {},
   "outputs": [],
   "source": [
    "tree=DecisionTreeRegressor()"
   ]
  },
  {
   "cell_type": "code",
   "execution_count": 31,
   "metadata": {},
   "outputs": [],
   "source": [
    "tree.fit(X_train, y_train)\n",
    "y_pred=tree.predict(X_test)"
   ]
  },
  {
   "cell_type": "code",
   "execution_count": 32,
   "metadata": {},
   "outputs": [
    {
     "data": {
      "text/plain": [
       "0.2833333333333333"
      ]
     },
     "execution_count": 32,
     "metadata": {},
     "output_type": "execute_result"
    }
   ],
   "source": [
    "metrics.accuracy_score(y_test, y_pred)"
   ]
  },
  {
   "cell_type": "code",
   "execution_count": 33,
   "metadata": {},
   "outputs": [
    {
     "data": {
      "text/plain": [
       "array([[  0,   0,   0,   0,   0,   0,   1,   0,   0],\n",
       "       [  0,   0,   0,   0,   0,   0,   2,   0,   0],\n",
       "       [  0,   0,   0,   0,   0,   2,   5,   1,   0],\n",
       "       [  0,   0,   0,   0,   1,   5,   8,   5,   0],\n",
       "       [  0,   0,   1,   2,  11,  22,  35,  17,   1],\n",
       "       [  0,   0,   0,   8,  22,  65, 148,  95,  10],\n",
       "       [  0,   0,   2,   5,  30, 139, 244, 170,  21],\n",
       "       [  0,   0,   1,   2,  24,  86, 132, 101,  25],\n",
       "       [  0,   0,   0,   0,   1,  11,  22,  13,   4]], dtype=int64)"
      ]
     },
     "execution_count": 33,
     "metadata": {},
     "output_type": "execute_result"
    }
   ],
   "source": [
    "metrics.confusion_matrix(y_test, y_pred)"
   ]
  },
  {
   "cell_type": "code",
   "execution_count": 38,
   "metadata": {},
   "outputs": [
    {
     "data": {
      "text/plain": [
       "0.9992777714089189"
      ]
     },
     "execution_count": 38,
     "metadata": {},
     "output_type": "execute_result"
    }
   ],
   "source": [
    "tree.score(X_train, y_train)"
   ]
  },
  {
   "cell_type": "code",
   "execution_count": 40,
   "metadata": {},
   "outputs": [],
   "source": [
    "feature_col=['genre','score']\n",
    "X=df[feature_col]\n",
    "y=df.gross"
   ]
  },
  {
   "cell_type": "code",
   "execution_count": 41,
   "metadata": {},
   "outputs": [],
   "source": [
    "gnb=GaussianNB()"
   ]
  },
  {
   "cell_type": "code",
   "execution_count": 42,
   "metadata": {},
   "outputs": [
    {
     "data": {
      "text/plain": [
       "GaussianNB(priors=None)"
      ]
     },
     "execution_count": 42,
     "metadata": {},
     "output_type": "execute_result"
    }
   ],
   "source": [
    "gnb.fit(X_train, y_train)"
   ]
  },
  {
   "cell_type": "code",
   "execution_count": 43,
   "metadata": {},
   "outputs": [],
   "source": [
    "y_pred=gnb.predict(X_test)"
   ]
  },
  {
   "cell_type": "code",
   "execution_count": 44,
   "metadata": {},
   "outputs": [
    {
     "data": {
      "text/plain": [
       "0.396"
      ]
     },
     "execution_count": 44,
     "metadata": {},
     "output_type": "execute_result"
    }
   ],
   "source": [
    "metrics.accuracy_score(y_test, y_pred)"
   ]
  },
  {
   "cell_type": "code",
   "execution_count": 45,
   "metadata": {},
   "outputs": [
    {
     "data": {
      "text/plain": [
       "0.376"
      ]
     },
     "execution_count": 45,
     "metadata": {},
     "output_type": "execute_result"
    }
   ],
   "source": [
    "gnb.score(X_train, y_train)"
   ]
  },
  {
   "cell_type": "code",
   "execution_count": 47,
   "metadata": {},
   "outputs": [],
   "source": [
    "feature_col=['genre','score']\n",
    "X=df[feature_col]\n",
    "y=df.gross"
   ]
  },
  {
   "cell_type": "code",
   "execution_count": 48,
   "metadata": {},
   "outputs": [],
   "source": [
    "svc=SVC()"
   ]
  },
  {
   "cell_type": "code",
   "execution_count": 49,
   "metadata": {},
   "outputs": [
    {
     "data": {
      "text/plain": [
       "SVC(C=1.0, cache_size=200, class_weight=None, coef0=0.0,\n",
       "  decision_function_shape='ovr', degree=3, gamma='auto', kernel='rbf',\n",
       "  max_iter=-1, probability=False, random_state=None, shrinking=True,\n",
       "  tol=0.001, verbose=False)"
      ]
     },
     "execution_count": 49,
     "metadata": {},
     "output_type": "execute_result"
    }
   ],
   "source": [
    "svc.fit(X_train, y_train)"
   ]
  },
  {
   "cell_type": "code",
   "execution_count": 50,
   "metadata": {},
   "outputs": [],
   "source": [
    "y_pred=svc.predict(X_test)"
   ]
  },
  {
   "cell_type": "code",
   "execution_count": 51,
   "metadata": {},
   "outputs": [
    {
     "data": {
      "text/plain": [
       "0.4066666666666667"
      ]
     },
     "execution_count": 51,
     "metadata": {},
     "output_type": "execute_result"
    }
   ],
   "source": [
    "metrics.accuracy_score(y_test, y_pred)"
   ]
  },
  {
   "cell_type": "code",
   "execution_count": 52,
   "metadata": {},
   "outputs": [
    {
     "data": {
      "text/plain": [
       "0.9993333333333333"
      ]
     },
     "execution_count": 52,
     "metadata": {},
     "output_type": "execute_result"
    }
   ],
   "source": [
    "svc.score(X_train, y_train)"
   ]
  },
  {
   "cell_type": "code",
   "execution_count": 56,
   "metadata": {
    "scrolled": false
   },
   "outputs": [
    {
     "data": {
      "image/png": "[encoded data removed]",
      "text/plain": [
       "<Figure size 432x288 with 1 Axes>"
      ]
     },
     "metadata": {},
     "output_type": "display_data"
    }
   ],
   "source": [
    "df.plot(kind='scatter', x='genre', y='score')\n",
    "plt.show()"
   ]
  },
  {
   "cell_type": "code",
   "execution_count": 58,
   "metadata": {},
   "outputs": [
    {
     "data": {
      "image/png": "[encoded data removed]",
      "text/plain": [
       "<Figure size 432x288 with 1 Axes>"
      ]
     },
     "metadata": {},
     "output_type": "display_data"
    }
   ],
   "source": [
    "df.plot(kind='bar', x='genre', y='score')\n",
    "plt.show()"
   ]
  },
  {
   "cell_type": "code",
   "execution_count": null,
   "metadata": {},
   "outputs": [],
   "source": []
  }
 ],
 "metadata": {
  "kernelspec": {
   "display_name": "Python 3",
   "language": "python",
   "name": "python3"
  },
  "language_info": {
   "codemirror_mode": {
    "name": "ipython",
    "version": 3
   },
   "file_extension": ".py",
   "mimetype": "text/x-python",
   "name": "python",
   "nbconvert_exporter": "python",
   "pygments_lexer": "ipython3",
   "version": "3.6.5"
  }
 },
 "nbformat": 4,
 "nbformat_minor": 2
}

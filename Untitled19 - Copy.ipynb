{
 "cells": [
  {
   "cell_type": "code",
   "execution_count": 2,
   "metadata": {},
   "outputs": [
    {
     "name": "stdout",
     "output_type": "stream",
     "text": [
      "1\n",
      "2\n",
      "3\n",
      "4\n",
      "5\n",
      "6\n",
      "7\n",
      "8\n",
      "9\n"
     ]
    }
   ],
   "source": [
    "for i in range(1,10):\n",
    "    print(i)\n",
    "\n"
   ]
  },
  {
   "cell_type": "code",
   "execution_count": 5,
   "metadata": {},
   "outputs": [
    {
     "name": "stdout",
     "output_type": "stream",
     "text": [
      "1\n",
      "2\n",
      "3\n",
      "4\n",
      "5\n",
      "6\n",
      "7\n",
      "8\n",
      "9\n",
      "10\n",
      "11\n"
     ]
    }
   ],
   "source": [
    "i=0\n",
    "while i<=10:\n",
    "    \n",
    "    i=i+1\n",
    "    print(i)"
   ]
  },
  {
   "cell_type": "code",
   "execution_count": 8,
   "metadata": {},
   "outputs": [
    {
     "name": "stdout",
     "output_type": "stream",
     "text": [
      "mc\n",
      "mc\n",
      "Chusega\n",
      "mc\n",
      "laar\n",
      "Chusega\n",
      "mc\n",
      "mc\n",
      "Chusega\n",
      "laar\n",
      "mc\n",
      "Chusega\n",
      "mc\n",
      "mc\n",
      "laar\n",
      "mc\n",
      "mc\n",
      "Chusega\n",
      "mc\n",
      "laar\n",
      "Chusega\n",
      "mc\n",
      "mc\n",
      "Chusega\n",
      "laar\n",
      "mc\n",
      "Chusega\n",
      "mc\n",
      "mc\n",
      "laar\n",
      "mc\n",
      "mc\n",
      "Chusega\n",
      "mc\n",
      "laar\n",
      "Chusega\n",
      "mc\n",
      "mc\n",
      "Chusega\n",
      "laar\n",
      "mc\n",
      "Chusega\n",
      "mc\n",
      "mc\n",
      "laar\n",
      "mc\n",
      "mc\n",
      "Chusega\n",
      "mc\n",
      "laar\n",
      "Chusega\n",
      "mc\n",
      "mc\n",
      "Chusega\n",
      "laar\n",
      "mc\n",
      "Chusega\n",
      "mc\n",
      "mc\n",
      "laar\n",
      "mc\n",
      "mc\n",
      "Chusega\n",
      "mc\n",
      "laar\n",
      "Chusega\n",
      "mc\n",
      "mc\n",
      "Chusega\n",
      "laar\n",
      "mc\n",
      "Chusega\n",
      "mc\n",
      "mc\n",
      "laar\n",
      "mc\n",
      "mc\n",
      "Chusega\n",
      "mc\n",
      "laar\n",
      "Chusega\n",
      "mc\n",
      "mc\n",
      "Chusega\n",
      "laar\n",
      "mc\n",
      "Chusega\n",
      "mc\n",
      "mc\n",
      "laar\n",
      "mc\n",
      "mc\n",
      "Chusega\n",
      "mc\n",
      "laar\n",
      "Chusega\n",
      "mc\n",
      "mc\n",
      "Chusega\n"
     ]
    }
   ],
   "source": [
    "for n in range(1,100):\n",
    "    if (n%5 ==0 & n%3 ==0):\n",
    "        print(\"laar\")\n",
    "    elif (n%5==0):\n",
    "         print(\"lahsun\")\n",
    "    elif(n%3 ==0):\n",
    "        print(\"Chusega\")\n",
    "    else:\n",
    "        print(\"mc\")"
   ]
  },
  {
   "cell_type": "code",
   "execution_count": 10,
   "metadata": {},
   "outputs": [
    {
     "name": "stdout",
     "output_type": "stream",
     "text": [
      "1\n",
      "1\n",
      "2\n",
      "3\n",
      "5\n",
      "8\n",
      "13\n",
      "21\n",
      "34\n"
     ]
    }
   ],
   "source": [
    "a=0\n",
    "b=1\n",
    "for i in range(1,10):\n",
    "    a,b=b,a+b\n",
    "    \n",
    "    \n",
    "    print(a)"
   ]
  },
  {
   "cell_type": "code",
   "execution_count": 21,
   "metadata": {},
   "outputs": [
    {
     "name": "stdout",
     "output_type": "stream",
     "text": [
      "1\n",
      "10\n",
      "12\n",
      "15\n"
     ]
    },
    {
     "data": {
      "text/plain": [
       "1"
      ]
     },
     "execution_count": 21,
     "metadata": {},
     "output_type": "execute_result"
    }
   ],
   "source": [
    "my_list=[1,10,12,15]\n",
    "for i in my_list:\n",
    "    print(i)\n",
    "    \n",
    "my_list[0]"
   ]
  },
  {
   "cell_type": "code",
   "execution_count": 13,
   "metadata": {},
   "outputs": [
    {
     "name": "stdout",
     "output_type": "stream",
     "text": [
      "1\n",
      "12\n",
      "14\n",
      "15\n"
     ]
    }
   ],
   "source": [
    "my_tup=(1,12,14,15)\n",
    "for i in my_tup:\n",
    "  print(i)  "
   ]
  },
  {
   "cell_type": "code",
   "execution_count": 20,
   "metadata": {},
   "outputs": [
    {
     "ename": "KeyError",
     "evalue": "0",
     "output_type": "error",
     "traceback": [
      "\u001b[1;31m---------------------------------------------------------------------------\u001b[0m",
      "\u001b[1;31mKeyError\u001b[0m                                  Traceback (most recent call last)",
      "\u001b[1;32m<ipython-input-20-fee4a2ffb2c4>\u001b[0m in \u001b[0;36m<module>\u001b[1;34m()\u001b[0m\n\u001b[0;32m      1\u001b[0m \u001b[0mmy_dict\u001b[0m\u001b[1;33m=\u001b[0m\u001b[1;33m{\u001b[0m\u001b[1;34m'Raj'\u001b[0m\u001b[1;33m:\u001b[0m\u001b[1;34m'RAJU'\u001b[0m\u001b[1;33m,\u001b[0m \u001b[1;34m'Ram'\u001b[0m\u001b[1;33m:\u001b[0m\u001b[1;34m'Sita'\u001b[0m\u001b[1;33m,\u001b[0m\u001b[1;34m'Rohan'\u001b[0m\u001b[1;33m:\u001b[0m\u001b[1;34m'Dog'\u001b[0m\u001b[1;33m}\u001b[0m\u001b[1;33m\u001b[0m\u001b[0m\n\u001b[0;32m      2\u001b[0m \u001b[1;33m\u001b[0m\u001b[0m\n\u001b[1;32m----> 3\u001b[1;33m \u001b[0mmy_dict\u001b[0m\u001b[1;33m[\u001b[0m\u001b[1;36m0\u001b[0m\u001b[1;33m]\u001b[0m\u001b[1;33m\u001b[0m\u001b[0m\n\u001b[0m",
      "\u001b[1;31mKeyError\u001b[0m: 0"
     ]
    }
   ],
   "source": [
    "my_dict={'Raj':'RAJU', 'Ram':'Sita','Rohan':'Dog'}\n",
    "\n",
    "my_dict[0]"
   ]
  },
  {
   "cell_type": "code",
   "execution_count": 22,
   "metadata": {},
   "outputs": [],
   "source": [
    "import numpy as np\n",
    "x=[1,4,8]\n",
    "x_array=np.array(x)"
   ]
  },
  {
   "cell_type": "code",
   "execution_count": 23,
   "metadata": {},
   "outputs": [
    {
     "data": {
      "text/plain": [
       "array([1, 4, 8])"
      ]
     },
     "execution_count": 23,
     "metadata": {},
     "output_type": "execute_result"
    }
   ],
   "source": [
    "x_array"
   ]
  },
  {
   "cell_type": "code",
   "execution_count": 25,
   "metadata": {},
   "outputs": [
    {
     "data": {
      "text/plain": [
       "array([ 1, 16, 64], dtype=int32)"
      ]
     },
     "execution_count": 25,
     "metadata": {},
     "output_type": "execute_result"
    }
   ],
   "source": [
    "x_array**2"
   ]
  },
  {
   "cell_type": "code",
   "execution_count": 27,
   "metadata": {},
   "outputs": [
    {
     "data": {
      "text/html": [
       "<div>\n",
       "<style scoped>\n",
       "    .dataframe tbody tr th:only-of-type {\n",
       "        vertical-align: middle;\n",
       "    }\n",
       "\n",
       "    .dataframe tbody tr th {\n",
       "        vertical-align: top;\n",
       "    }\n",
       "\n",
       "    .dataframe thead th {\n",
       "        text-align: right;\n",
       "    }\n",
       "</style>\n",
       "<table border=\"1\" class=\"dataframe\">\n",
       "  <thead>\n",
       "    <tr style=\"text-align: right;\">\n",
       "      <th></th>\n",
       "      <th>article_id</th>\n",
       "      <th>store_id</th>\n",
       "      <th>current_selling_price</th>\n",
       "      <th>cost_price</th>\n",
       "      <th>name</th>\n",
       "    </tr>\n",
       "  </thead>\n",
       "  <tbody>\n",
       "    <tr>\n",
       "      <th>0</th>\n",
       "      <td>2</td>\n",
       "      <td>2</td>\n",
       "      <td>9.8</td>\n",
       "      <td>8.773753</td>\n",
       "      <td>top ramen masala noodles 70g rs.10</td>\n",
       "    </tr>\n",
       "    <tr>\n",
       "      <th>1</th>\n",
       "      <td>2</td>\n",
       "      <td>3</td>\n",
       "      <td>9.8</td>\n",
       "      <td>8.512627</td>\n",
       "      <td>top ramen masala noodles 70g rs.10</td>\n",
       "    </tr>\n",
       "    <tr>\n",
       "      <th>2</th>\n",
       "      <td>2</td>\n",
       "      <td>4</td>\n",
       "      <td>9.8</td>\n",
       "      <td>8.484649</td>\n",
       "      <td>top ramen masala noodles 70g rs.10</td>\n",
       "    </tr>\n",
       "    <tr>\n",
       "      <th>3</th>\n",
       "      <td>2</td>\n",
       "      <td>5</td>\n",
       "      <td>9.8</td>\n",
       "      <td>8.354969</td>\n",
       "      <td>top ramen masala noodles 70g rs.10</td>\n",
       "    </tr>\n",
       "    <tr>\n",
       "      <th>4</th>\n",
       "      <td>3</td>\n",
       "      <td>2</td>\n",
       "      <td>19.6</td>\n",
       "      <td>17.794164</td>\n",
       "      <td>top ramen masala noodles 140g</td>\n",
       "    </tr>\n",
       "  </tbody>\n",
       "</table>\n",
       "</div>"
      ],
      "text/plain": [
       "   article_id  store_id  current_selling_price  cost_price  \\\n",
       "0           2         2                    9.8    8.773753   \n",
       "1           2         3                    9.8    8.512627   \n",
       "2           2         4                    9.8    8.484649   \n",
       "3           2         5                    9.8    8.354969   \n",
       "4           3         2                   19.6   17.794164   \n",
       "\n",
       "                                 name  \n",
       "0  top ramen masala noodles 70g rs.10  \n",
       "1  top ramen masala noodles 70g rs.10  \n",
       "2  top ramen masala noodles 70g rs.10  \n",
       "3  top ramen masala noodles 70g rs.10  \n",
       "4       top ramen masala noodles 140g  "
      ]
     },
     "execution_count": 27,
     "metadata": {},
     "output_type": "execute_result"
    }
   ],
   "source": [
    "import pandas as pd\n",
    "df=pd.read_csv('articles.csv')\n",
    "df.head()"
   ]
  },
  {
   "cell_type": "code",
   "execution_count": 31,
   "metadata": {},
   "outputs": [
    {
     "data": {
      "text/plain": [
       "8579     2078.5\n",
       "8577     2078.5\n",
       "21230    1875.0\n",
       "21228    1875.0\n",
       "21231    1847.5\n",
       "Name: current_selling_price, dtype: float64"
      ]
     },
     "execution_count": 31,
     "metadata": {},
     "output_type": "execute_result"
    }
   ],
   "source": [
    "df.current_selling_price.sort_values(ascending=False).head()"
   ]
  },
  {
   "cell_type": "code",
   "execution_count": 47,
   "metadata": {},
   "outputs": [
    {
     "data": {
      "text/plain": [
       "(40528, 5)"
      ]
     },
     "execution_count": 47,
     "metadata": {},
     "output_type": "execute_result"
    }
   ],
   "source": [
    "df.shape"
   ]
  },
  {
   "cell_type": "code",
   "execution_count": 42,
   "metadata": {},
   "outputs": [
    {
     "data": {
      "text/plain": [
       "(30396, 5)"
      ]
     },
     "execution_count": 42,
     "metadata": {},
     "output_type": "execute_result"
    }
   ],
   "source": [
    "df.loc[df.article_id.duplicated(),:].shape"
   ]
  },
  {
   "cell_type": "code",
   "execution_count": 49,
   "metadata": {},
   "outputs": [
    {
     "data": {
      "text/plain": [
       "0            2\n",
       "4            3\n",
       "8            7\n",
       "12           8\n",
       "16          11\n",
       "20          13\n",
       "24          14\n",
       "28          15\n",
       "32          23\n",
       "36          24\n",
       "40          25\n",
       "44          26\n",
       "48          27\n",
       "52          28\n",
       "56          29\n",
       "60          30\n",
       "64          33\n",
       "68          34\n",
       "72          37\n",
       "76          39\n",
       "80          40\n",
       "84          41\n",
       "88          42\n",
       "92          43\n",
       "96          44\n",
       "100         48\n",
       "104         49\n",
       "108         50\n",
       "112         51\n",
       "116         53\n",
       "         ...  \n",
       "40408    26647\n",
       "40412    26648\n",
       "40416    26649\n",
       "40420    26651\n",
       "40424    26652\n",
       "40428    26654\n",
       "40432    26656\n",
       "40436    26657\n",
       "40440    26658\n",
       "40444    26660\n",
       "40448    26661\n",
       "40452    26662\n",
       "40456    26663\n",
       "40460    26665\n",
       "40464    26669\n",
       "40468    26670\n",
       "40472    26671\n",
       "40476    26672\n",
       "40480    26675\n",
       "40484    26677\n",
       "40488    26681\n",
       "40492    26682\n",
       "40496    26683\n",
       "40500    26687\n",
       "40504    26689\n",
       "40508    26693\n",
       "40512    26695\n",
       "40516    26696\n",
       "40520    26698\n",
       "40524    26701\n",
       "Name: article_id, Length: 10132, dtype: int64"
      ]
     },
     "execution_count": 49,
     "metadata": {},
     "output_type": "execute_result"
    }
   ],
   "source": [
    "df.article_id.drop_duplicates()"
   ]
  },
  {
   "cell_type": "code",
   "execution_count": 64,
   "metadata": {},
   "outputs": [
    {
     "data": {
      "image/png": "[encoded data removed]",
      "text/plain": [
       "<Figure size 432x288 with 1 Axes>"
      ]
     },
     "metadata": {},
     "output_type": "display_data"
    }
   ],
   "source": [
    "import matplotlib.pyplot as plt\n",
    "\n",
    "plt.plot(df.cost_price, df.current_selling_price, linewidth=4, linestyle='dotted', color='b')\n",
    "plt.show()"
   ]
  },
  {
   "cell_type": "code",
   "execution_count": 66,
   "metadata": {},
   "outputs": [
    {
     "data": {
      "text/html": [
       "<div>\n",
       "<style scoped>\n",
       "    .dataframe tbody tr th:only-of-type {\n",
       "        vertical-align: middle;\n",
       "    }\n",
       "\n",
       "    .dataframe tbody tr th {\n",
       "        vertical-align: top;\n",
       "    }\n",
       "\n",
       "    .dataframe thead th {\n",
       "        text-align: right;\n",
       "    }\n",
       "</style>\n",
       "<table border=\"1\" class=\"dataframe\">\n",
       "  <thead>\n",
       "    <tr style=\"text-align: right;\">\n",
       "      <th></th>\n",
       "      <th>article_id</th>\n",
       "      <th>store_id</th>\n",
       "      <th>current_selling_price</th>\n",
       "      <th>cost_price</th>\n",
       "      <th>name</th>\n",
       "    </tr>\n",
       "  </thead>\n",
       "  <tbody>\n",
       "    <tr>\n",
       "      <th>40523</th>\n",
       "      <td>26698</td>\n",
       "      <td>5</td>\n",
       "      <td>NaN</td>\n",
       "      <td>NaN</td>\n",
       "      <td>parle premium rusk 63g</td>\n",
       "    </tr>\n",
       "    <tr>\n",
       "      <th>40524</th>\n",
       "      <td>26701</td>\n",
       "      <td>2</td>\n",
       "      <td>194.0</td>\n",
       "      <td>149.7058</td>\n",
       "      <td>nestle kitkat 245g tin</td>\n",
       "    </tr>\n",
       "    <tr>\n",
       "      <th>40525</th>\n",
       "      <td>26701</td>\n",
       "      <td>3</td>\n",
       "      <td>194.0</td>\n",
       "      <td>126.8700</td>\n",
       "      <td>nestle kitkat 245g tin</td>\n",
       "    </tr>\n",
       "    <tr>\n",
       "      <th>40526</th>\n",
       "      <td>26701</td>\n",
       "      <td>4</td>\n",
       "      <td>194.0</td>\n",
       "      <td>126.8700</td>\n",
       "      <td>nestle kitkat 245g tin</td>\n",
       "    </tr>\n",
       "    <tr>\n",
       "      <th>40527</th>\n",
       "      <td>26701</td>\n",
       "      <td>5</td>\n",
       "      <td>194.0</td>\n",
       "      <td>126.8700</td>\n",
       "      <td>nestle kitkat 245g tin</td>\n",
       "    </tr>\n",
       "  </tbody>\n",
       "</table>\n",
       "</div>"
      ],
      "text/plain": [
       "       article_id  store_id  current_selling_price  cost_price  \\\n",
       "40523       26698         5                    NaN         NaN   \n",
       "40524       26701         2                  194.0    149.7058   \n",
       "40525       26701         3                  194.0    126.8700   \n",
       "40526       26701         4                  194.0    126.8700   \n",
       "40527       26701         5                  194.0    126.8700   \n",
       "\n",
       "                         name  \n",
       "40523  parle premium rusk 63g  \n",
       "40524  nestle kitkat 245g tin  \n",
       "40525  nestle kitkat 245g tin  \n",
       "40526  nestle kitkat 245g tin  \n",
       "40527  nestle kitkat 245g tin  "
      ]
     },
     "execution_count": 66,
     "metadata": {},
     "output_type": "execute_result"
    }
   ],
   "source": [
    "df.tail()"
   ]
  },
  {
   "cell_type": "code",
   "execution_count": 88,
   "metadata": {},
   "outputs": [
    {
     "data": {
      "text/plain": [
       "<matplotlib.legend.Legend at 0x23dfcee44e0>"
      ]
     },
     "execution_count": 88,
     "metadata": {},
     "output_type": "execute_result"
    },
    {
     "data": {
      "image/png": "[encoded data removed]",
      "text/plain": [
       "<Figure size 432x288 with 1 Axes>"
      ]
     },
     "metadata": {},
     "output_type": "display_data"
    }
   ],
   "source": [
    "import seaborn as sns\n",
    "sns.set()\n",
    "x=[10,20,30,40]\n",
    "y=[1,2,3,4]\n",
    "plt.xlabel(\"X_axis\")\n",
    "plt.ylabel(\"Y_axis\")\n",
    "plt.title(\"Graph\")\n",
    "sns.set()\n",
    "plt.hist(x, linewidth=10, linestyle='dotted', color='g')\n",
    "plt.hist(y, linewidth=10, linestyle='dotted', color='c')\n",
    "plt.legend('SD')"
   ]
  },
  {
   "cell_type": "code",
   "execution_count": 89,
   "metadata": {},
   "outputs": [],
   "source": [
    "import seaborn as sns\n",
    "import numpy as np\n",
    "X=[14,15,18,19]\n",
    "Y=[20,21,22,23]"
   ]
  },
  {
   "cell_type": "code",
   "execution_count": 99,
   "metadata": {},
   "outputs": [],
   "source": [
    "#tips=sns.load_dataset(x)"
   ]
  },
  {
   "cell_type": "code",
   "execution_count": 108,
   "metadata": {},
   "outputs": [
    {
     "data": {
      "text/plain": [
       "<matplotlib.axes._subplots.AxesSubplot at 0x23dfd7d0978>"
      ]
     },
     "execution_count": 108,
     "metadata": {},
     "output_type": "execute_result"
    },
    {
     "data": {
      "image/png": "[encoded data removed]",
      "text/plain": [
       "<Figure size 432x288 with 1 Axes>"
      ]
     },
     "metadata": {},
     "output_type": "display_data"
    }
   ],
   "source": [
    "sns.barplot(x,y)\n",
    "sns.barplot(x,y)"
   ]
  },
  {
   "cell_type": "code",
   "execution_count": 110,
   "metadata": {},
   "outputs": [
    {
     "data": {
      "text/plain": [
       "<matplotlib.axes._subplots.AxesSubplot at 0x23dfd84fc18>"
      ]
     },
     "execution_count": 110,
     "metadata": {},
     "output_type": "execute_result"
    },
    {
     "data": {
      "image/png": "[encoded data removed]",
      "text/plain": [
       "<Figure size 432x288 with 1 Axes>"
      ]
     },
     "metadata": {},
     "output_type": "display_data"
    }
   ],
   "source": [
    "sns.barplot(x,y, palette='Accent')"
   ]
  },
  {
   "cell_type": "code",
   "execution_count": 111,
   "metadata": {},
   "outputs": [
    {
     "data": {
      "text/plain": [
       "<matplotlib.axes._subplots.AxesSubplot at 0x23dfd76b748>"
      ]
     },
     "execution_count": 111,
     "metadata": {},
     "output_type": "execute_result"
    },
    {
     "data": {
      "image/png": "[encoded data removed]",
      "text/plain": [
       "<Figure size 432x288 with 1 Axes>"
      ]
     },
     "metadata": {},
     "output_type": "display_data"
    }
   ],
   "source": [
    "sns.barplot(y,x, palette='Accent')"
   ]
  },
  {
   "cell_type": "code",
   "execution_count": 112,
   "metadata": {},
   "outputs": [],
   "source": [
    "total=[100,200,300,400]\n",
    "day=[4,5,8,10]"
   ]
  },
  {
   "cell_type": "code",
   "execution_count": 123,
   "metadata": {},
   "outputs": [
    {
     "data": {
      "text/plain": [
       "<matplotlib.axes._subplots.AxesSubplot at 0x23dfd939470>"
      ]
     },
     "execution_count": 123,
     "metadata": {},
     "output_type": "execute_result"
    },
    {
     "data": {
      "image/png": "[encoded data removed]",
      "text/plain": [
       "<Figure size 432x288 with 1 Axes>"
      ]
     },
     "metadata": {},
     "output_type": "display_data"
    }
   ],
   "source": [
    "import numpy as np\n",
    "sns.barplot(x,y, palette='spring', ci=10, capsize=0.9)"
   ]
  },
  {
   "cell_type": "code",
   "execution_count": 129,
   "metadata": {},
   "outputs": [
    {
     "name": "stderr",
     "output_type": "stream",
     "text": [
      "C:\\Users\\rabis\\Anaconda3\\lib\\site-packages\\matplotlib\\axes\\_axes.py:6462: UserWarning: The 'normed' kwarg is deprecated, and has been replaced by the 'density' kwarg.\n",
      "  warnings.warn(\"The 'normed' kwarg is deprecated, and has been \"\n"
     ]
    },
    {
     "data": {
      "text/plain": [
       "<matplotlib.axes._subplots.AxesSubplot at 0x23dfdc6c710>"
      ]
     },
     "execution_count": 129,
     "metadata": {},
     "output_type": "execute_result"
    },
    {
     "data": {
      "image/png": "[encoded data removed]",
      "text/plain": [
       "<Figure size 432x288 with 1 Axes>"
      ]
     },
     "metadata": {},
     "output_type": "display_data"
    }
   ],
   "source": [
    "sns.distplot(x, bins=2, color='c')"
   ]
  },
  {
   "cell_type": "code",
   "execution_count": null,
   "metadata": {},
   "outputs": [],
   "source": []
  }
 ],
 "metadata": {
  "kernelspec": {
   "display_name": "Python 3",
   "language": "python",
   "name": "python3"
  },
  "language_info": {
   "codemirror_mode": {
    "name": "ipython",
    "version": 3
   },
   "file_extension": ".py",
   "mimetype": "text/x-python",
   "name": "python",
   "nbconvert_exporter": "python",
   "pygments_lexer": "ipython3",
   "version": "3.6.5"
  }
 },
 "nbformat": 4,
 "nbformat_minor": 2
}

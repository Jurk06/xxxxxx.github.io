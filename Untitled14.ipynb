{
 "cells": [
  {
   "cell_type": "code",
   "execution_count": 1,
   "metadata": {},
   "outputs": [],
   "source": [
    "import pandas as pd\n",
    "import numpy as np\n",
    "import matplotlib.pyplot as plt\n",
    "import seaborn as sns\n",
    "sns.set(style='whitegrid')"
   ]
  },
  {
   "cell_type": "code",
   "execution_count": 2,
   "metadata": {},
   "outputs": [],
   "source": [
    "df=pd.read_csv('D:\\\\python\\\\Titanic_ML\\\\box_office\\\\box_office_predictions.csv')\n"
   ]
  },
  {
   "cell_type": "code",
   "execution_count": 5,
   "metadata": {},
   "outputs": [],
   "source": [
    "genre_mapping={\"Comedy\":0,\"Drama\":0.5,\"Action\":1,\"Crime\":1.5,\"Adventure\":2,\"Biography\":2.5,\"Animation\":3,\n",
    "              \"Horror\":3.5,\"Mystery\":4,\"Fantasy\":5,\"Thriller\":5.5,\"Romance\":6,\"Sci-Fi\":6.5,\"Family\":7,\"Musical\":7.5,\n",
    "              \"Western\":8,\"War\":8.5}\n",
    "for dataset in train_test_data:\n",
    "    dataset['genre']=dataset['genre'].map(genre_mapping)"
   ]
  },
  {
   "cell_type": "code",
   "execution_count": 4,
   "metadata": {},
   "outputs": [],
   "source": [
    "train_test_data=[df]"
   ]
  },
  {
   "cell_type": "code",
   "execution_count": 7,
   "metadata": {},
   "outputs": [],
   "source": [
    "rating_mapping={\"R\":0.0,\"PG-13\":0.5,\"PG\":1.0, \"NOT RATED\":1.5,\"G\":2.0,\"UNRATED\":2.5,\"Not specified\":3.0,\n",
    "                \"NC-17\":3.5,\"TV-PG\":4.0,\"TV-14\":4.5,\"TV-MA\":5.0,\"B\":5.5,\"B15\":6}\n",
    "\n",
    "for dataset in train_test_data:\n",
    "    dataset['rating']=dataset['rating'].map(rating_mapping)"
   ]
  },
  {
   "cell_type": "code",
   "execution_count": 8,
   "metadata": {},
   "outputs": [],
   "source": [
    "for dataset in train_test_data:\n",
    "    dataset.loc[dataset['votes']<=1000, 'votes']=0\n",
    "    dataset.loc[(dataset['votes']>1000) & (dataset['votes']<10000), 'votes']=0.2\n",
    "    dataset.loc[(dataset['votes']>10000) & (dataset['votes']<20000), 'votes']=0.4\n",
    "    dataset.loc[(dataset['votes']>20000) & (dataset['votes']<40000), 'votes']=0.6\n",
    "    dataset.loc[(dataset['votes']>40000) & (dataset['votes']<80000), 'votes']=0.8\n",
    "    dataset.loc[(dataset['votes']>80000) & (dataset['votes']<100000), 'votes']=1.0\n",
    "    dataset.loc[dataset['votes']>100000, 'votes']=1.2"
   ]
  },
  {
   "cell_type": "code",
   "execution_count": 9,
   "metadata": {},
   "outputs": [],
   "source": [
    "for dataset in train_test_data:\n",
    "    dataset.loc[dataset['score']<=1.5, 'score']=0\n",
    "    dataset.loc[(dataset['score']>1.5) & (dataset['score']<2), 'score']=1\n",
    "    dataset.loc[(dataset['score']>2) & (dataset['score']<3), 'score']=2\n",
    "    dataset.loc[(dataset['score']>3) & (dataset['score']<4), 'score']=3\n",
    "    dataset.loc[(dataset['score']>4) & (dataset['score']<5), 'score']=4\n",
    "    dataset.loc[(dataset['score']>5) & (dataset['score']<6), 'score']=5\n",
    "    dataset.loc[(dataset['score']>6) & (dataset['score']<7), 'score']=6\n",
    "    dataset.loc[(dataset['score']>7) & (dataset['score']<8), 'score']=7\n",
    "    dataset.loc[(dataset['score']>8) & (dataset['score']<9), 'score']=8\n",
    "    dataset.loc[dataset['score']>9, 'score']=9"
   ]
  },
  {
   "cell_type": "code",
   "execution_count": 10,
   "metadata": {},
   "outputs": [
    {
     "data": {
      "text/html": [
       "<div>\n",
       "<style scoped>\n",
       "    .dataframe tbody tr th:only-of-type {\n",
       "        vertical-align: middle;\n",
       "    }\n",
       "\n",
       "    .dataframe tbody tr th {\n",
       "        vertical-align: top;\n",
       "    }\n",
       "\n",
       "    .dataframe thead th {\n",
       "        text-align: right;\n",
       "    }\n",
       "</style>\n",
       "<table border=\"1\" class=\"dataframe\">\n",
       "  <thead>\n",
       "    <tr style=\"text-align: right;\">\n",
       "      <th></th>\n",
       "      <th>budget</th>\n",
       "      <th>country</th>\n",
       "      <th>director</th>\n",
       "      <th>genre</th>\n",
       "      <th>gross</th>\n",
       "      <th>name</th>\n",
       "      <th>rating</th>\n",
       "      <th>runtime</th>\n",
       "      <th>score</th>\n",
       "      <th>star</th>\n",
       "      <th>studio</th>\n",
       "      <th>votes</th>\n",
       "    </tr>\n",
       "  </thead>\n",
       "  <tbody>\n",
       "    <tr>\n",
       "      <th>0</th>\n",
       "      <td>237000000.0</td>\n",
       "      <td>UK</td>\n",
       "      <td>James Cameron</td>\n",
       "      <td>1.0</td>\n",
       "      <td>760507625.0</td>\n",
       "      <td>Avatar (2009)</td>\n",
       "      <td>0.5</td>\n",
       "      <td>162</td>\n",
       "      <td>7.0</td>\n",
       "      <td>Sam Worthington</td>\n",
       "      <td>Twentieth Century Fox Film Corporation</td>\n",
       "      <td>1.2</td>\n",
       "    </tr>\n",
       "    <tr>\n",
       "      <th>1</th>\n",
       "      <td>200000000.0</td>\n",
       "      <td>USA</td>\n",
       "      <td>James Cameron</td>\n",
       "      <td>0.5</td>\n",
       "      <td>658672302.0</td>\n",
       "      <td>Titanic (1997)</td>\n",
       "      <td>0.5</td>\n",
       "      <td>194</td>\n",
       "      <td>7.0</td>\n",
       "      <td>Leonardo DiCaprio</td>\n",
       "      <td>Twentieth Century Fox Film Corporation</td>\n",
       "      <td>1.2</td>\n",
       "    </tr>\n",
       "    <tr>\n",
       "      <th>2</th>\n",
       "      <td>150000000.0</td>\n",
       "      <td>USA</td>\n",
       "      <td>Colin Trevorrow</td>\n",
       "      <td>1.0</td>\n",
       "      <td>652270625.0</td>\n",
       "      <td>Jurassic World (2015)</td>\n",
       "      <td>0.5</td>\n",
       "      <td>124</td>\n",
       "      <td>7.0</td>\n",
       "      <td>Chris Pratt</td>\n",
       "      <td>Universal Pictures</td>\n",
       "      <td>1.2</td>\n",
       "    </tr>\n",
       "    <tr>\n",
       "      <th>3</th>\n",
       "      <td>220000000.0</td>\n",
       "      <td>USA</td>\n",
       "      <td>Joss Whedon</td>\n",
       "      <td>1.0</td>\n",
       "      <td>623357910.0</td>\n",
       "      <td>The Avengers (2012)</td>\n",
       "      <td>0.5</td>\n",
       "      <td>143</td>\n",
       "      <td>8.0</td>\n",
       "      <td>Robert Downey Jr.</td>\n",
       "      <td>Marvel Studios</td>\n",
       "      <td>1.2</td>\n",
       "    </tr>\n",
       "    <tr>\n",
       "      <th>4</th>\n",
       "      <td>185000000.0</td>\n",
       "      <td>USA</td>\n",
       "      <td>Christopher Nolan</td>\n",
       "      <td>1.0</td>\n",
       "      <td>534858444.0</td>\n",
       "      <td>The Dark Knight (2008)</td>\n",
       "      <td>0.5</td>\n",
       "      <td>152</td>\n",
       "      <td>9.0</td>\n",
       "      <td>Christian Bale</td>\n",
       "      <td>Warner Bros.</td>\n",
       "      <td>1.2</td>\n",
       "    </tr>\n",
       "  </tbody>\n",
       "</table>\n",
       "</div>"
      ],
      "text/plain": [
       "        budget country           director  genre        gross  \\\n",
       "0  237000000.0      UK      James Cameron    1.0  760507625.0   \n",
       "1  200000000.0     USA      James Cameron    0.5  658672302.0   \n",
       "2  150000000.0     USA    Colin Trevorrow    1.0  652270625.0   \n",
       "3  220000000.0     USA        Joss Whedon    1.0  623357910.0   \n",
       "4  185000000.0     USA  Christopher Nolan    1.0  534858444.0   \n",
       "\n",
       "                     name  rating  runtime  score               star  \\\n",
       "0           Avatar (2009)     0.5      162    7.0    Sam Worthington   \n",
       "1          Titanic (1997)     0.5      194    7.0  Leonardo DiCaprio   \n",
       "2   Jurassic World (2015)     0.5      124    7.0        Chris Pratt   \n",
       "3     The Avengers (2012)     0.5      143    8.0  Robert Downey Jr.   \n",
       "4  The Dark Knight (2008)     0.5      152    9.0     Christian Bale   \n",
       "\n",
       "                                   studio  votes  \n",
       "0  Twentieth Century Fox Film Corporation    1.2  \n",
       "1  Twentieth Century Fox Film Corporation    1.2  \n",
       "2                      Universal Pictures    1.2  \n",
       "3                          Marvel Studios    1.2  \n",
       "4                            Warner Bros.    1.2  "
      ]
     },
     "execution_count": 10,
     "metadata": {},
     "output_type": "execute_result"
    }
   ],
   "source": [
    "df.head()"
   ]
  },
  {
   "cell_type": "code",
   "execution_count": 39,
   "metadata": {},
   "outputs": [],
   "source": [
    "from sklearn.svm import SVC\n",
    "from sklearn.model_selection import train_test_split\n",
    "import numpy as np\n",
    "from sklearn.metrics import precision_recall_curve, average_precision_score, confusion_matrix\n",
    "from sklearn import metrics\n"
   ]
  },
  {
   "cell_type": "code",
   "execution_count": 14,
   "metadata": {},
   "outputs": [],
   "source": [
    "feature_col=['gross']\n",
    "X=df[feature_col]\n",
    "y=df.score"
   ]
  },
  {
   "cell_type": "code",
   "execution_count": 56,
   "metadata": {},
   "outputs": [],
   "source": [
    "X_train, X_test, y_train, y_test = train_test_split(X, y,\n",
    "                                                    test_size=.5,\n",
    "                                                    random_state=11)"
   ]
  },
  {
   "cell_type": "code",
   "execution_count": 17,
   "metadata": {},
   "outputs": [],
   "source": [
    "svc=SVC()"
   ]
  },
  {
   "cell_type": "code",
   "execution_count": 18,
   "metadata": {},
   "outputs": [
    {
     "data": {
      "text/plain": [
       "SVC(C=1.0, cache_size=200, class_weight=None, coef0=0.0,\n",
       "  decision_function_shape='ovr', degree=3, gamma='auto', kernel='rbf',\n",
       "  max_iter=-1, probability=False, random_state=None, shrinking=True,\n",
       "  tol=0.001, verbose=False)"
      ]
     },
     "execution_count": 18,
     "metadata": {},
     "output_type": "execute_result"
    }
   ],
   "source": [
    "svc.fit(X_train, y_train)"
   ]
  },
  {
   "cell_type": "code",
   "execution_count": 19,
   "metadata": {},
   "outputs": [],
   "source": [
    "y_pred=svc.predict(X_test)"
   ]
  },
  {
   "cell_type": "code",
   "execution_count": 44,
   "metadata": {},
   "outputs": [],
   "source": [
    "#y_score=svc.decision_function(X_test)"
   ]
  },
  {
   "cell_type": "code",
   "execution_count": 45,
   "metadata": {},
   "outputs": [
    {
     "name": "stdout",
     "output_type": "stream",
     "text": [
      "0.394\n"
     ]
    }
   ],
   "source": [
    "print(metrics.accuracy_score(y_test, y_pred))"
   ]
  },
  {
   "cell_type": "markdown",
   "metadata": {},
   "source": []
  },
  {
   "cell_type": "code",
   "execution_count": 46,
   "metadata": {},
   "outputs": [
    {
     "name": "stdout",
     "output_type": "stream",
     "text": [
      "[[   0    0    0    0    0    0    1    0    0]\n",
      " [   0    0    0    0    0    0    2    0    0]\n",
      " [   0    0    0    0    0    0   11    0    0]\n",
      " [   0    0    0    0    0    0   30    0    0]\n",
      " [   0    0    0    0    0    0  180    0    0]\n",
      " [   0    0    0    0    0    0  691    1    0]\n",
      " [   0    0    0    0    0    1 1181    0    0]\n",
      " [   0    0    0    0    0    1  797    1    0]\n",
      " [   0    0    0    0    0    0  103    0    0]]\n"
     ]
    }
   ],
   "source": [
    "print(confusion_matrix(y_test, y_pred))"
   ]
  },
  {
   "cell_type": "code",
   "execution_count": 43,
   "metadata": {},
   "outputs": [
    {
     "data": {
      "text/plain": [
       "array([[   0,    0,    0,    0,    0,    0,    1,    0,    0],\n",
       "       [   0,    0,    0,    0,    0,    0,    2,    0,    0],\n",
       "       [   0,    0,    0,    0,    0,    0,   11,    0,    0],\n",
       "       [   0,    0,    0,    0,    0,    0,   30,    0,    0],\n",
       "       [   0,    0,    0,    0,    0,    0,  180,    0,    0],\n",
       "       [   0,    0,    0,    0,    0,    0,  691,    1,    0],\n",
       "       [   0,    0,    0,    0,    0,    1, 1181,    0,    0],\n",
       "       [   0,    0,    0,    0,    0,    1,  797,    1,    0],\n",
       "       [   0,    0,    0,    0,    0,    0,  103,    0,    0]],\n",
       "      dtype=int64)"
      ]
     },
     "execution_count": 43,
     "metadata": {},
     "output_type": "execute_result"
    }
   ],
   "source": [
    "metrics.confusion_matrix(y_test, y_pred)"
   ]
  },
  {
   "cell_type": "code",
   "execution_count": 47,
   "metadata": {},
   "outputs": [],
   "source": [
    "cm=confusion_matrix(y_test, y_pred)"
   ]
  },
  {
   "cell_type": "code",
   "execution_count": 50,
   "metadata": {},
   "outputs": [
    {
     "data": {
      "image/png": "[encoded data removed]",
      "text/plain": [
       "<Figure size 288x288 with 2 Axes>"
      ]
     },
     "metadata": {},
     "output_type": "display_data"
    }
   ],
   "source": [
    "plt.matshow(cm)\n",
    "plt.title('confusion matrix')\n",
    "plt.colorbar()\n",
    "plt.xlabel('pre')\n",
    "plt.ylabel('reacal')\n",
    "plt.show()"
   ]
  },
  {
   "cell_type": "code",
   "execution_count": 52,
   "metadata": {},
   "outputs": [
    {
     "data": {
      "text/plain": [
       "0.394"
      ]
     },
     "execution_count": 52,
     "metadata": {},
     "output_type": "execute_result"
    }
   ],
   "source": [
    "svc.score(X_test, y_test)"
   ]
  },
  {
   "cell_type": "code",
   "execution_count": 53,
   "metadata": {},
   "outputs": [
    {
     "data": {
      "text/plain": [
       "0.9986666666666667"
      ]
     },
     "execution_count": 53,
     "metadata": {},
     "output_type": "execute_result"
    }
   ],
   "source": [
    "svc.score(X_train, y_train)"
   ]
  },
  {
   "cell_type": "code",
   "execution_count": 54,
   "metadata": {},
   "outputs": [],
   "source": [
    "feature_col=['gross']\n",
    "X=df[feature_col]\n",
    "y=df.budget"
   ]
  },
  {
   "cell_type": "code",
   "execution_count": 57,
   "metadata": {},
   "outputs": [
    {
     "data": {
      "text/plain": [
       "SVC(C=1.0, cache_size=200, class_weight=None, coef0=0.0,\n",
       "  decision_function_shape='ovr', degree=3, gamma='auto', kernel='rbf',\n",
       "  max_iter=-1, probability=False, random_state=None, shrinking=True,\n",
       "  tol=0.001, verbose=False)"
      ]
     },
     "execution_count": 57,
     "metadata": {},
     "output_type": "execute_result"
    }
   ],
   "source": [
    "svc.fit(X_train, y_train)"
   ]
  },
  {
   "cell_type": "code",
   "execution_count": 58,
   "metadata": {},
   "outputs": [],
   "source": [
    "y_pred=svc.predict(X_test)"
   ]
  },
  {
   "cell_type": "code",
   "execution_count": 59,
   "metadata": {},
   "outputs": [
    {
     "data": {
      "text/plain": [
       "0.31933333333333336"
      ]
     },
     "execution_count": 59,
     "metadata": {},
     "output_type": "execute_result"
    }
   ],
   "source": [
    "metrics.accuracy_score(y_test, y_pred)"
   ]
  },
  {
   "cell_type": "code",
   "execution_count": 62,
   "metadata": {},
   "outputs": [
    {
     "data": {
      "text/plain": [
       "array([[957,   0,   0, ...,   0,   0,   0],\n",
       "       [  1,   0,   0, ...,   0,   0,   0],\n",
       "       [  1,   0,   0, ...,   0,   0,   0],\n",
       "       ...,\n",
       "       [  1,   0,   0, ...,   0,   0,   0],\n",
       "       [  1,   0,   0, ...,   0,   0,   0],\n",
       "       [  1,   0,   0, ...,   0,   0,   0]], dtype=int64)"
      ]
     },
     "execution_count": 62,
     "metadata": {},
     "output_type": "execute_result"
    }
   ],
   "source": [
    "metrics.confusion_matrix(y_test, y_pred)"
   ]
  },
  {
   "cell_type": "code",
   "execution_count": 63,
   "metadata": {},
   "outputs": [
    {
     "data": {
      "text/plain": [
       "0.9993333333333333"
      ]
     },
     "execution_count": 63,
     "metadata": {},
     "output_type": "execute_result"
    }
   ],
   "source": [
    "svc.score(X_train, y_train)"
   ]
  },
  {
   "cell_type": "code",
   "execution_count": 64,
   "metadata": {},
   "outputs": [],
   "source": [
    "feature_col=['genre', 'score', 'rating']\n",
    "x=df[feature_col]\n",
    "y=df.gross"
   ]
  },
  {
   "cell_type": "code",
   "execution_count": 65,
   "metadata": {},
   "outputs": [],
   "source": [
    "X_train, X_test, y_train, y_test = train_test_split(x, y,\n",
    "                                                    test_size=.5,\n",
    "                                                    random_state=11)"
   ]
  },
  {
   "cell_type": "code",
   "execution_count": 66,
   "metadata": {},
   "outputs": [
    {
     "data": {
      "text/plain": [
       "SVC(C=1.0, cache_size=200, class_weight=None, coef0=0.0,\n",
       "  decision_function_shape='ovr', degree=3, gamma='auto', kernel='rbf',\n",
       "  max_iter=-1, probability=False, random_state=None, shrinking=True,\n",
       "  tol=0.001, verbose=False)"
      ]
     },
     "execution_count": 66,
     "metadata": {},
     "output_type": "execute_result"
    }
   ],
   "source": [
    "svc.fit(X_train, y_train)"
   ]
  },
  {
   "cell_type": "code",
   "execution_count": null,
   "metadata": {},
   "outputs": [],
   "source": [
    "y_pred=svc.predict(X_test)"
   ]
  },
  {
   "cell_type": "code",
   "execution_count": null,
   "metadata": {},
   "outputs": [],
   "source": [
    "me"
   ]
  },
  {
   "cell_type": "code",
   "execution_count": null,
   "metadata": {},
   "outputs": [],
   "source": []
  },
  {
   "cell_type": "code",
   "execution_count": null,
   "metadata": {},
   "outputs": [],
   "source": []
  }
 ],
 "metadata": {
  "kernelspec": {
   "display_name": "Python 3",
   "language": "python",
   "name": "python3"
  },
  "language_info": {
   "codemirror_mode": {
    "name": "ipython",
    "version": 3
   },
   "file_extension": ".py",
   "mimetype": "text/x-python",
   "name": "python",
   "nbconvert_exporter": "python",
   "pygments_lexer": "ipython3",
   "version": "3.6.5"
  }
 },
 "nbformat": 4,
 "nbformat_minor": 2
}

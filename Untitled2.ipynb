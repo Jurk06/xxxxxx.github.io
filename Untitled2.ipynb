{
 "cells": [
  {
   "cell_type": "code",
   "execution_count": 1,
   "metadata": {},
   "outputs": [],
   "source": [
    "import pandas as pd\n",
    "import numpy as np\n",
    "import matplotlib.pyplot as plt\n",
    "import seaborn as sns\n",
    "sns.set(style='whitegrid')"
   ]
  },
  {
   "cell_type": "code",
   "execution_count": 2,
   "metadata": {},
   "outputs": [],
   "source": [
    "df=pd.read_csv('D:\\\\python\\\\Titanic_ML\\\\box_office\\\\box_office_predictions.csv')\n"
   ]
  },
  {
   "cell_type": "code",
   "execution_count": 3,
   "metadata": {},
   "outputs": [
    {
     "data": {
      "text/html": [
       "<div>\n",
       "<style scoped>\n",
       "    .dataframe tbody tr th:only-of-type {\n",
       "        vertical-align: middle;\n",
       "    }\n",
       "\n",
       "    .dataframe tbody tr th {\n",
       "        vertical-align: top;\n",
       "    }\n",
       "\n",
       "    .dataframe thead th {\n",
       "        text-align: right;\n",
       "    }\n",
       "</style>\n",
       "<table border=\"1\" class=\"dataframe\">\n",
       "  <thead>\n",
       "    <tr style=\"text-align: right;\">\n",
       "      <th></th>\n",
       "      <th>budget</th>\n",
       "      <th>country</th>\n",
       "      <th>director</th>\n",
       "      <th>genre</th>\n",
       "      <th>gross</th>\n",
       "      <th>name</th>\n",
       "      <th>rating</th>\n",
       "      <th>runtime</th>\n",
       "      <th>score</th>\n",
       "      <th>star</th>\n",
       "      <th>studio</th>\n",
       "      <th>votes</th>\n",
       "    </tr>\n",
       "  </thead>\n",
       "  <tbody>\n",
       "    <tr>\n",
       "      <th>0</th>\n",
       "      <td>237000000.0</td>\n",
       "      <td>UK</td>\n",
       "      <td>James Cameron</td>\n",
       "      <td>Action</td>\n",
       "      <td>760507625.0</td>\n",
       "      <td>Avatar (2009)</td>\n",
       "      <td>PG-13</td>\n",
       "      <td>162</td>\n",
       "      <td>1.0</td>\n",
       "      <td>Sam Worthington</td>\n",
       "      <td>Twentieth Century Fox Film Corporation</td>\n",
       "      <td>958400</td>\n",
       "    </tr>\n",
       "    <tr>\n",
       "      <th>1</th>\n",
       "      <td>200000000.0</td>\n",
       "      <td>USA</td>\n",
       "      <td>James Cameron</td>\n",
       "      <td>Drama</td>\n",
       "      <td>658672302.0</td>\n",
       "      <td>Titanic (1997)</td>\n",
       "      <td>PG-13</td>\n",
       "      <td>194</td>\n",
       "      <td>1.0</td>\n",
       "      <td>Leonardo DiCaprio</td>\n",
       "      <td>Twentieth Century Fox Film Corporation</td>\n",
       "      <td>865551</td>\n",
       "    </tr>\n",
       "    <tr>\n",
       "      <th>2</th>\n",
       "      <td>150000000.0</td>\n",
       "      <td>USA</td>\n",
       "      <td>Colin Trevorrow</td>\n",
       "      <td>Action</td>\n",
       "      <td>652270625.0</td>\n",
       "      <td>Jurassic World (2015)</td>\n",
       "      <td>PG-13</td>\n",
       "      <td>124</td>\n",
       "      <td>1.0</td>\n",
       "      <td>Chris Pratt</td>\n",
       "      <td>Universal Pictures</td>\n",
       "      <td>470625</td>\n",
       "    </tr>\n",
       "    <tr>\n",
       "      <th>3</th>\n",
       "      <td>220000000.0</td>\n",
       "      <td>USA</td>\n",
       "      <td>Joss Whedon</td>\n",
       "      <td>Action</td>\n",
       "      <td>623357910.0</td>\n",
       "      <td>The Avengers (2012)</td>\n",
       "      <td>PG-13</td>\n",
       "      <td>143</td>\n",
       "      <td>1.0</td>\n",
       "      <td>Robert Downey Jr.</td>\n",
       "      <td>Marvel Studios</td>\n",
       "      <td>1069292</td>\n",
       "    </tr>\n",
       "    <tr>\n",
       "      <th>4</th>\n",
       "      <td>185000000.0</td>\n",
       "      <td>USA</td>\n",
       "      <td>Christopher Nolan</td>\n",
       "      <td>Action</td>\n",
       "      <td>534858444.0</td>\n",
       "      <td>The Dark Knight (2008)</td>\n",
       "      <td>PG-13</td>\n",
       "      <td>152</td>\n",
       "      <td>1.0</td>\n",
       "      <td>Christian Bale</td>\n",
       "      <td>Warner Bros.</td>\n",
       "      <td>1845853</td>\n",
       "    </tr>\n",
       "  </tbody>\n",
       "</table>\n",
       "</div>"
      ],
      "text/plain": [
       "        budget country           director   genre        gross  \\\n",
       "0  237000000.0      UK      James Cameron  Action  760507625.0   \n",
       "1  200000000.0     USA      James Cameron   Drama  658672302.0   \n",
       "2  150000000.0     USA    Colin Trevorrow  Action  652270625.0   \n",
       "3  220000000.0     USA        Joss Whedon  Action  623357910.0   \n",
       "4  185000000.0     USA  Christopher Nolan  Action  534858444.0   \n",
       "\n",
       "                     name rating  runtime  score               star  \\\n",
       "0           Avatar (2009)  PG-13      162    1.0    Sam Worthington   \n",
       "1          Titanic (1997)  PG-13      194    1.0  Leonardo DiCaprio   \n",
       "2   Jurassic World (2015)  PG-13      124    1.0        Chris Pratt   \n",
       "3     The Avengers (2012)  PG-13      143    1.0  Robert Downey Jr.   \n",
       "4  The Dark Knight (2008)  PG-13      152    1.0     Christian Bale   \n",
       "\n",
       "                                   studio    votes  \n",
       "0  Twentieth Century Fox Film Corporation   958400  \n",
       "1  Twentieth Century Fox Film Corporation   865551  \n",
       "2                      Universal Pictures   470625  \n",
       "3                          Marvel Studios  1069292  \n",
       "4                            Warner Bros.  1845853  "
      ]
     },
     "execution_count": 3,
     "metadata": {},
     "output_type": "execute_result"
    }
   ],
   "source": [
    "df.loc[df['score']<6.7 , 'score']=0\n",
    "df.loc[df['score']>6.7, 'score']=1\n",
    "df.head()"
   ]
  },
  {
   "cell_type": "code",
   "execution_count": 4,
   "metadata": {},
   "outputs": [],
   "source": [
    "train_test_data=[df]"
   ]
  },
  {
   "cell_type": "code",
   "execution_count": 5,
   "metadata": {},
   "outputs": [],
   "source": [
    "genre_mapping={\"Comedy\":0,\"Drama\":0.5,\"Action\":1,\"Crime\":1.5,\"Adventure\":2,\"Biography\":2.5,\"Animation\":3,\n",
    "              \"Horror\":3.5,\"Mystery\":4,\"Fantasy\":5,\"Thriller\":5.5,\"Romance\":6,\"Sci-Fi\":6.5,\"Family\":7,\"Musical\":7.5,\n",
    "              \"Western\":8,\"War\":8.5}\n",
    "for dataset in train_test_data:\n",
    "    dataset['genre']=dataset['genre'].map(genre_mapping)"
   ]
  },
  {
   "cell_type": "code",
   "execution_count": 6,
   "metadata": {},
   "outputs": [],
   "source": [
    "rating_mapping={\"R\":0.0,\"PG-13\":0.5,\"PG\":1.0, \"NOT RATED\":1.5,\"G\":2.0,\"UNRATED\":2.5,\"Not specified\":3.0,\n",
    "                \"NC-17\":3.5,\"TV-PG\":4.0,\"TV-14\":4.5,\"TV-MA\":5.0,\"B\":5.5,\"B15\":6}\n",
    "\n",
    "for dataset in train_test_data:\n",
    "    dataset['rating']=dataset['rating'].map(rating_mapping)"
   ]
  },
  {
   "cell_type": "code",
   "execution_count": 7,
   "metadata": {},
   "outputs": [],
   "source": [
    "for dataset in train_test_data:\n",
    "    dataset['country']=dataset['country'].str[:1]"
   ]
  },
  {
   "cell_type": "code",
   "execution_count": 8,
   "metadata": {},
   "outputs": [
    {
     "data": {
      "text/plain": [
       "U    4896\n",
       "F     253\n",
       "C     162\n",
       "I     140\n",
       "G     123\n",
       "S      99\n",
       "A      85\n",
       "J      60\n",
       "H      45\n",
       "N      37\n",
       "D      31\n",
       "B      21\n",
       "M      14\n",
       "R      14\n",
       "T       9\n",
       "P       7\n",
       "W       4\n",
       "Name: country, dtype: int64"
      ]
     },
     "execution_count": 8,
     "metadata": {},
     "output_type": "execute_result"
    }
   ],
   "source": [
    "df['country'].value_counts()"
   ]
  },
  {
   "cell_type": "code",
   "execution_count": 9,
   "metadata": {},
   "outputs": [],
   "source": [
    "country_mapping={\"U\":0.1, \"F\":0.2,\"C\":0.3,\"I\":0.4,\"G\":0.5,\"S\":0.6,\"A\":0.7,\"J\":0.8,\"H\":0.9,\"N\":1.0,\"N\":1.1,\"D\":1.2,\"B\":1.3,\n",
    "                \"M\":1.4,\"R\":1.5,\"T\":1.6,\"P\":1.7,\"W\":1.8}\n",
    "\n",
    "for dataset in train_test_data:\n",
    "    dataset['country']=dataset['country'].map(country_mapping)"
   ]
  },
  {
   "cell_type": "code",
   "execution_count": 10,
   "metadata": {},
   "outputs": [
    {
     "data": {
      "text/html": [
       "<div>\n",
       "<style scoped>\n",
       "    .dataframe tbody tr th:only-of-type {\n",
       "        vertical-align: middle;\n",
       "    }\n",
       "\n",
       "    .dataframe tbody tr th {\n",
       "        vertical-align: top;\n",
       "    }\n",
       "\n",
       "    .dataframe thead th {\n",
       "        text-align: right;\n",
       "    }\n",
       "</style>\n",
       "<table border=\"1\" class=\"dataframe\">\n",
       "  <thead>\n",
       "    <tr style=\"text-align: right;\">\n",
       "      <th></th>\n",
       "      <th>budget</th>\n",
       "      <th>country</th>\n",
       "      <th>director</th>\n",
       "      <th>genre</th>\n",
       "      <th>gross</th>\n",
       "      <th>name</th>\n",
       "      <th>rating</th>\n",
       "      <th>runtime</th>\n",
       "      <th>score</th>\n",
       "      <th>star</th>\n",
       "      <th>studio</th>\n",
       "      <th>votes</th>\n",
       "    </tr>\n",
       "  </thead>\n",
       "  <tbody>\n",
       "    <tr>\n",
       "      <th>0</th>\n",
       "      <td>237000000.0</td>\n",
       "      <td>0.1</td>\n",
       "      <td>James Cameron</td>\n",
       "      <td>1.0</td>\n",
       "      <td>760507625.0</td>\n",
       "      <td>Avatar (2009)</td>\n",
       "      <td>0.5</td>\n",
       "      <td>162</td>\n",
       "      <td>1.0</td>\n",
       "      <td>Sam Worthington</td>\n",
       "      <td>Twentieth Century Fox Film Corporation</td>\n",
       "      <td>958400</td>\n",
       "    </tr>\n",
       "    <tr>\n",
       "      <th>1</th>\n",
       "      <td>200000000.0</td>\n",
       "      <td>0.1</td>\n",
       "      <td>James Cameron</td>\n",
       "      <td>0.5</td>\n",
       "      <td>658672302.0</td>\n",
       "      <td>Titanic (1997)</td>\n",
       "      <td>0.5</td>\n",
       "      <td>194</td>\n",
       "      <td>1.0</td>\n",
       "      <td>Leonardo DiCaprio</td>\n",
       "      <td>Twentieth Century Fox Film Corporation</td>\n",
       "      <td>865551</td>\n",
       "    </tr>\n",
       "    <tr>\n",
       "      <th>2</th>\n",
       "      <td>150000000.0</td>\n",
       "      <td>0.1</td>\n",
       "      <td>Colin Trevorrow</td>\n",
       "      <td>1.0</td>\n",
       "      <td>652270625.0</td>\n",
       "      <td>Jurassic World (2015)</td>\n",
       "      <td>0.5</td>\n",
       "      <td>124</td>\n",
       "      <td>1.0</td>\n",
       "      <td>Chris Pratt</td>\n",
       "      <td>Universal Pictures</td>\n",
       "      <td>470625</td>\n",
       "    </tr>\n",
       "    <tr>\n",
       "      <th>3</th>\n",
       "      <td>220000000.0</td>\n",
       "      <td>0.1</td>\n",
       "      <td>Joss Whedon</td>\n",
       "      <td>1.0</td>\n",
       "      <td>623357910.0</td>\n",
       "      <td>The Avengers (2012)</td>\n",
       "      <td>0.5</td>\n",
       "      <td>143</td>\n",
       "      <td>1.0</td>\n",
       "      <td>Robert Downey Jr.</td>\n",
       "      <td>Marvel Studios</td>\n",
       "      <td>1069292</td>\n",
       "    </tr>\n",
       "    <tr>\n",
       "      <th>4</th>\n",
       "      <td>185000000.0</td>\n",
       "      <td>0.1</td>\n",
       "      <td>Christopher Nolan</td>\n",
       "      <td>1.0</td>\n",
       "      <td>534858444.0</td>\n",
       "      <td>The Dark Knight (2008)</td>\n",
       "      <td>0.5</td>\n",
       "      <td>152</td>\n",
       "      <td>1.0</td>\n",
       "      <td>Christian Bale</td>\n",
       "      <td>Warner Bros.</td>\n",
       "      <td>1845853</td>\n",
       "    </tr>\n",
       "  </tbody>\n",
       "</table>\n",
       "</div>"
      ],
      "text/plain": [
       "        budget  country           director  genre        gross  \\\n",
       "0  237000000.0      0.1      James Cameron    1.0  760507625.0   \n",
       "1  200000000.0      0.1      James Cameron    0.5  658672302.0   \n",
       "2  150000000.0      0.1    Colin Trevorrow    1.0  652270625.0   \n",
       "3  220000000.0      0.1        Joss Whedon    1.0  623357910.0   \n",
       "4  185000000.0      0.1  Christopher Nolan    1.0  534858444.0   \n",
       "\n",
       "                     name  rating  runtime  score               star  \\\n",
       "0           Avatar (2009)     0.5      162    1.0    Sam Worthington   \n",
       "1          Titanic (1997)     0.5      194    1.0  Leonardo DiCaprio   \n",
       "2   Jurassic World (2015)     0.5      124    1.0        Chris Pratt   \n",
       "3     The Avengers (2012)     0.5      143    1.0  Robert Downey Jr.   \n",
       "4  The Dark Knight (2008)     0.5      152    1.0     Christian Bale   \n",
       "\n",
       "                                   studio    votes  \n",
       "0  Twentieth Century Fox Film Corporation   958400  \n",
       "1  Twentieth Century Fox Film Corporation   865551  \n",
       "2                      Universal Pictures   470625  \n",
       "3                          Marvel Studios  1069292  \n",
       "4                            Warner Bros.  1845853  "
      ]
     },
     "execution_count": 10,
     "metadata": {},
     "output_type": "execute_result"
    }
   ],
   "source": [
    "df.head()"
   ]
  },
  {
   "cell_type": "code",
   "execution_count": 11,
   "metadata": {},
   "outputs": [
    {
     "name": "stdout",
     "output_type": "stream",
     "text": [
      "<class 'pandas.core.frame.DataFrame'>\n",
      "RangeIndex: 6000 entries, 0 to 5999\n",
      "Data columns (total 12 columns):\n",
      "budget      6000 non-null float64\n",
      "country     6000 non-null float64\n",
      "director    6000 non-null object\n",
      "genre       6000 non-null float64\n",
      "gross       6000 non-null float64\n",
      "name        6000 non-null object\n",
      "rating      6000 non-null float64\n",
      "runtime     6000 non-null int64\n",
      "score       6000 non-null float64\n",
      "star        6000 non-null object\n",
      "studio      6000 non-null object\n",
      "votes       6000 non-null int64\n",
      "dtypes: float64(6), int64(2), object(4)\n",
      "memory usage: 562.6+ KB\n"
     ]
    }
   ],
   "source": [
    "df.info()"
   ]
  },
  {
   "cell_type": "code",
   "execution_count": 12,
   "metadata": {},
   "outputs": [
    {
     "data": {
      "text/plain": [
       "27"
      ]
     },
     "execution_count": 12,
     "metadata": {},
     "output_type": "execute_result"
    }
   ],
   "source": [
    "df.votes.min()"
   ]
  },
  {
   "cell_type": "code",
   "execution_count": 13,
   "metadata": {},
   "outputs": [
    {
     "data": {
      "text/plain": [
       "1868308"
      ]
     },
     "execution_count": 13,
     "metadata": {},
     "output_type": "execute_result"
    }
   ],
   "source": [
    "df.votes.max()"
   ]
  },
  {
   "cell_type": "code",
   "execution_count": 14,
   "metadata": {},
   "outputs": [
    {
     "data": {
      "text/plain": [
       "0        958400\n",
       "1        865551\n",
       "2        470625\n",
       "3       1069292\n",
       "4       1845853\n",
       "5        366803\n",
       "6        587113\n",
       "7        540298\n",
       "8       1259109\n",
       "9        344003\n",
       "10       538184\n",
       "11       570136\n",
       "12       605687\n",
       "13       608085\n",
       "14       444625\n",
       "15       751734\n",
       "16       589626\n",
       "17       687813\n",
       "18       345057\n",
       "19       466249\n",
       "20       611380\n",
       "21       774469\n",
       "22       572131\n",
       "23       453462\n",
       "24       189777\n",
       "25       315528\n",
       "26       209805\n",
       "27       670760\n",
       "28       441406\n",
       "29       311380\n",
       "         ...   \n",
       "5970      46731\n",
       "5971       8630\n",
       "5972      10291\n",
       "5973      10126\n",
       "5974       1412\n",
       "5975      35552\n",
       "5976       3269\n",
       "5977      16107\n",
       "5978      14092\n",
       "5979       7884\n",
       "5980       6170\n",
       "5981      20233\n",
       "5982       8636\n",
       "5983      15308\n",
       "5984      14517\n",
       "5985       6407\n",
       "5986       1044\n",
       "5987      40496\n",
       "5988       3465\n",
       "5989       8373\n",
       "5990       4939\n",
       "5991       4239\n",
       "5992      38543\n",
       "5993       2492\n",
       "5994      20463\n",
       "5995       4557\n",
       "5996       5540\n",
       "5997      16674\n",
       "5998       9055\n",
       "5999      21145\n",
       "Name: votes, Length: 6000, dtype: int64"
      ]
     },
     "execution_count": 14,
     "metadata": {},
     "output_type": "execute_result"
    }
   ],
   "source": [
    "df.votes"
   ]
  },
  {
   "cell_type": "code",
   "execution_count": 15,
   "metadata": {},
   "outputs": [],
   "source": [
    "for dataset in train_test_data:\n",
    "    dataset.loc[dataset['votes']<=1000, 'votes']=0\n",
    "    dataset.loc[(dataset['votes']>1000) & (dataset['votes']<10000), 'votes']=0.2\n",
    "    dataset.loc[(dataset['votes']>10000) & (dataset['votes']<20000), 'votes']=0.4\n",
    "    dataset.loc[(dataset['votes']>20000) & (dataset['votes']<40000), 'votes']=0.6\n",
    "    dataset.loc[(dataset['votes']>40000) & (dataset['votes']<80000), 'votes']=0.8\n",
    "    dataset.loc[(dataset['votes']>80000) & (dataset['votes']<100000), 'votes']=1.0\n",
    "    dataset.loc[dataset['votes']>100000, 'votes']=1.2"
   ]
  },
  {
   "cell_type": "code",
   "execution_count": 16,
   "metadata": {},
   "outputs": [
    {
     "data": {
      "text/html": [
       "<div>\n",
       "<style scoped>\n",
       "    .dataframe tbody tr th:only-of-type {\n",
       "        vertical-align: middle;\n",
       "    }\n",
       "\n",
       "    .dataframe tbody tr th {\n",
       "        vertical-align: top;\n",
       "    }\n",
       "\n",
       "    .dataframe thead th {\n",
       "        text-align: right;\n",
       "    }\n",
       "</style>\n",
       "<table border=\"1\" class=\"dataframe\">\n",
       "  <thead>\n",
       "    <tr style=\"text-align: right;\">\n",
       "      <th></th>\n",
       "      <th>budget</th>\n",
       "      <th>country</th>\n",
       "      <th>director</th>\n",
       "      <th>genre</th>\n",
       "      <th>gross</th>\n",
       "      <th>name</th>\n",
       "      <th>rating</th>\n",
       "      <th>runtime</th>\n",
       "      <th>score</th>\n",
       "      <th>star</th>\n",
       "      <th>studio</th>\n",
       "      <th>votes</th>\n",
       "    </tr>\n",
       "  </thead>\n",
       "  <tbody>\n",
       "    <tr>\n",
       "      <th>5590</th>\n",
       "      <td>0.0</td>\n",
       "      <td>0.1</td>\n",
       "      <td>Gregg Araki</td>\n",
       "      <td>0.0</td>\n",
       "      <td>98967.0</td>\n",
       "      <td>Totally F***ed Up (1993)</td>\n",
       "      <td>2.5</td>\n",
       "      <td>78</td>\n",
       "      <td>0.0</td>\n",
       "      <td>James Duval</td>\n",
       "      <td>Blurco</td>\n",
       "      <td>0.2</td>\n",
       "    </tr>\n",
       "    <tr>\n",
       "      <th>2570</th>\n",
       "      <td>20000000.0</td>\n",
       "      <td>0.3</td>\n",
       "      <td>Michael J. Bassett</td>\n",
       "      <td>2.0</td>\n",
       "      <td>17529157.0</td>\n",
       "      <td>Terror en Silent Hill 2: la revelación (2012)</td>\n",
       "      <td>0.0</td>\n",
       "      <td>95</td>\n",
       "      <td>0.0</td>\n",
       "      <td>Adelaide Clemens</td>\n",
       "      <td>Davis-Films</td>\n",
       "      <td>0.8</td>\n",
       "    </tr>\n",
       "    <tr>\n",
       "      <th>135</th>\n",
       "      <td>33000000.0</td>\n",
       "      <td>0.1</td>\n",
       "      <td>Jay Roach</td>\n",
       "      <td>1.0</td>\n",
       "      <td>206040086.0</td>\n",
       "      <td>Austin Powers: The Spy Who Shagged Me (1999)</td>\n",
       "      <td>0.5</td>\n",
       "      <td>95</td>\n",
       "      <td>0.0</td>\n",
       "      <td>Mike Myers</td>\n",
       "      <td>New Line Cinema</td>\n",
       "      <td>1.2</td>\n",
       "    </tr>\n",
       "    <tr>\n",
       "      <th>3943</th>\n",
       "      <td>0.0</td>\n",
       "      <td>0.1</td>\n",
       "      <td>Woody Allen</td>\n",
       "      <td>0.0</td>\n",
       "      <td>3825351.0</td>\n",
       "      <td>Melinda and Melinda (2004)</td>\n",
       "      <td>0.5</td>\n",
       "      <td>99</td>\n",
       "      <td>0.0</td>\n",
       "      <td>Will Ferrell</td>\n",
       "      <td>Fox Searchlight Pictures</td>\n",
       "      <td>0.6</td>\n",
       "    </tr>\n",
       "    <tr>\n",
       "      <th>1000</th>\n",
       "      <td>46000000.0</td>\n",
       "      <td>0.1</td>\n",
       "      <td>Edward Zwick</td>\n",
       "      <td>1.0</td>\n",
       "      <td>59031057.0</td>\n",
       "      <td>Courage Under Fire (1996)</td>\n",
       "      <td>0.0</td>\n",
       "      <td>116</td>\n",
       "      <td>0.0</td>\n",
       "      <td>Denzel Washington</td>\n",
       "      <td>Davis Entertainment</td>\n",
       "      <td>0.8</td>\n",
       "    </tr>\n",
       "  </tbody>\n",
       "</table>\n",
       "</div>"
      ],
      "text/plain": [
       "          budget  country            director  genre        gross  \\\n",
       "5590         0.0      0.1         Gregg Araki    0.0      98967.0   \n",
       "2570  20000000.0      0.3  Michael J. Bassett    2.0   17529157.0   \n",
       "135   33000000.0      0.1           Jay Roach    1.0  206040086.0   \n",
       "3943         0.0      0.1         Woody Allen    0.0    3825351.0   \n",
       "1000  46000000.0      0.1        Edward Zwick    1.0   59031057.0   \n",
       "\n",
       "                                               name  rating  runtime  score  \\\n",
       "5590                       Totally F***ed Up (1993)     2.5       78    0.0   \n",
       "2570  Terror en Silent Hill 2: la revelación (2012)     0.0       95    0.0   \n",
       "135    Austin Powers: The Spy Who Shagged Me (1999)     0.5       95    0.0   \n",
       "3943                     Melinda and Melinda (2004)     0.5       99    0.0   \n",
       "1000                      Courage Under Fire (1996)     0.0      116    0.0   \n",
       "\n",
       "                   star                    studio  votes  \n",
       "5590        James Duval                    Blurco    0.2  \n",
       "2570   Adelaide Clemens               Davis-Films    0.8  \n",
       "135          Mike Myers           New Line Cinema    1.2  \n",
       "3943       Will Ferrell  Fox Searchlight Pictures    0.6  \n",
       "1000  Denzel Washington       Davis Entertainment    0.8  "
      ]
     },
     "execution_count": 16,
     "metadata": {},
     "output_type": "execute_result"
    }
   ],
   "source": [
    "df.sample(5)"
   ]
  },
  {
   "cell_type": "code",
   "execution_count": 18,
   "metadata": {},
   "outputs": [
    {
     "data": {
      "text/plain": [
       "0.2        1547\n",
       "1.2        1168\n",
       "0.6        1011\n",
       "0.8         918\n",
       "0.4         847\n",
       "1.0         288\n",
       "0.0         220\n",
       "20000.0       1\n",
       "Name: votes, dtype: int64"
      ]
     },
     "execution_count": 18,
     "metadata": {},
     "output_type": "execute_result"
    }
   ],
   "source": [
    "df.votes.value_counts()"
   ]
  },
  {
   "cell_type": "code",
   "execution_count": 19,
   "metadata": {},
   "outputs": [
    {
     "data": {
      "text/plain": [
       "0.0    3474\n",
       "1.0    2257\n",
       "6.7     269\n",
       "Name: score, dtype: int64"
      ]
     },
     "execution_count": 19,
     "metadata": {},
     "output_type": "execute_result"
    }
   ],
   "source": [
    "df.score.value_counts()"
   ]
  },
  {
   "cell_type": "code",
   "execution_count": 20,
   "metadata": {},
   "outputs": [],
   "source": [
    "feature_drop=['director','name','star','studio']\n",
    "df=df.drop(feature_drop, axis=1)"
   ]
  },
  {
   "cell_type": "code",
   "execution_count": 21,
   "metadata": {},
   "outputs": [
    {
     "data": {
      "text/html": [
       "<div>\n",
       "<style scoped>\n",
       "    .dataframe tbody tr th:only-of-type {\n",
       "        vertical-align: middle;\n",
       "    }\n",
       "\n",
       "    .dataframe tbody tr th {\n",
       "        vertical-align: top;\n",
       "    }\n",
       "\n",
       "    .dataframe thead th {\n",
       "        text-align: right;\n",
       "    }\n",
       "</style>\n",
       "<table border=\"1\" class=\"dataframe\">\n",
       "  <thead>\n",
       "    <tr style=\"text-align: right;\">\n",
       "      <th></th>\n",
       "      <th>budget</th>\n",
       "      <th>country</th>\n",
       "      <th>genre</th>\n",
       "      <th>gross</th>\n",
       "      <th>rating</th>\n",
       "      <th>runtime</th>\n",
       "      <th>score</th>\n",
       "      <th>votes</th>\n",
       "    </tr>\n",
       "  </thead>\n",
       "  <tbody>\n",
       "    <tr>\n",
       "      <th>0</th>\n",
       "      <td>237000000.0</td>\n",
       "      <td>0.1</td>\n",
       "      <td>1.0</td>\n",
       "      <td>760507625.0</td>\n",
       "      <td>0.5</td>\n",
       "      <td>162</td>\n",
       "      <td>1.0</td>\n",
       "      <td>1.2</td>\n",
       "    </tr>\n",
       "    <tr>\n",
       "      <th>1</th>\n",
       "      <td>200000000.0</td>\n",
       "      <td>0.1</td>\n",
       "      <td>0.5</td>\n",
       "      <td>658672302.0</td>\n",
       "      <td>0.5</td>\n",
       "      <td>194</td>\n",
       "      <td>1.0</td>\n",
       "      <td>1.2</td>\n",
       "    </tr>\n",
       "    <tr>\n",
       "      <th>2</th>\n",
       "      <td>150000000.0</td>\n",
       "      <td>0.1</td>\n",
       "      <td>1.0</td>\n",
       "      <td>652270625.0</td>\n",
       "      <td>0.5</td>\n",
       "      <td>124</td>\n",
       "      <td>1.0</td>\n",
       "      <td>1.2</td>\n",
       "    </tr>\n",
       "    <tr>\n",
       "      <th>3</th>\n",
       "      <td>220000000.0</td>\n",
       "      <td>0.1</td>\n",
       "      <td>1.0</td>\n",
       "      <td>623357910.0</td>\n",
       "      <td>0.5</td>\n",
       "      <td>143</td>\n",
       "      <td>1.0</td>\n",
       "      <td>1.2</td>\n",
       "    </tr>\n",
       "    <tr>\n",
       "      <th>4</th>\n",
       "      <td>185000000.0</td>\n",
       "      <td>0.1</td>\n",
       "      <td>1.0</td>\n",
       "      <td>534858444.0</td>\n",
       "      <td>0.5</td>\n",
       "      <td>152</td>\n",
       "      <td>1.0</td>\n",
       "      <td>1.2</td>\n",
       "    </tr>\n",
       "  </tbody>\n",
       "</table>\n",
       "</div>"
      ],
      "text/plain": [
       "        budget  country  genre        gross  rating  runtime  score  votes\n",
       "0  237000000.0      0.1    1.0  760507625.0     0.5      162    1.0    1.2\n",
       "1  200000000.0      0.1    0.5  658672302.0     0.5      194    1.0    1.2\n",
       "2  150000000.0      0.1    1.0  652270625.0     0.5      124    1.0    1.2\n",
       "3  220000000.0      0.1    1.0  623357910.0     0.5      143    1.0    1.2\n",
       "4  185000000.0      0.1    1.0  534858444.0     0.5      152    1.0    1.2"
      ]
     },
     "execution_count": 21,
     "metadata": {},
     "output_type": "execute_result"
    }
   ],
   "source": [
    "df.head()"
   ]
  },
  {
   "cell_type": "code",
   "execution_count": 22,
   "metadata": {},
   "outputs": [
    {
     "data": {
      "text/plain": [
       "50"
      ]
     },
     "execution_count": 22,
     "metadata": {},
     "output_type": "execute_result"
    }
   ],
   "source": [
    "df.runtime.min()"
   ]
  },
  {
   "cell_type": "code",
   "execution_count": 23,
   "metadata": {},
   "outputs": [
    {
     "data": {
      "text/plain": [
       "366"
      ]
     },
     "execution_count": 23,
     "metadata": {},
     "output_type": "execute_result"
    }
   ],
   "source": [
    "df.runtime.max()"
   ]
  },
  {
   "cell_type": "code",
   "execution_count": 24,
   "metadata": {},
   "outputs": [
    {
     "data": {
      "text/plain": [
       "0    100\n",
       "dtype: int64"
      ]
     },
     "execution_count": 24,
     "metadata": {},
     "output_type": "execute_result"
    }
   ],
   "source": [
    "df.runtime.mode()"
   ]
  },
  {
   "cell_type": "code",
   "execution_count": null,
   "metadata": {},
   "outputs": [],
   "source": []
  }
 ],
 "metadata": {
  "kernelspec": {
   "display_name": "Python 3",
   "language": "python",
   "name": "python3"
  },
  "language_info": {
   "codemirror_mode": {
    "name": "ipython",
    "version": 3
   },
   "file_extension": ".py",
   "mimetype": "text/x-python",
   "name": "python",
   "nbconvert_exporter": "python",
   "pygments_lexer": "ipython3",
   "version": "3.6.5"
  }
 },
 "nbformat": 4,
 "nbformat_minor": 2
}
